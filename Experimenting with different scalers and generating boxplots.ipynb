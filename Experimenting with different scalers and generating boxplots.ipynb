{
 "cells": [
  {
   "cell_type": "code",
   "execution_count": 1,
   "metadata": {},
   "outputs": [],
   "source": [
    "import pandas as pd"
   ]
  },
  {
   "cell_type": "code",
   "execution_count": 2,
   "metadata": {},
   "outputs": [],
   "source": [
    "df = pd.read_csv('EEG_data.csv')"
   ]
  },
  {
   "cell_type": "code",
   "execution_count": 3,
   "metadata": {},
   "outputs": [
    {
     "data": {
      "text/html": [
       "<div>\n",
       "<style scoped>\n",
       "    .dataframe tbody tr th:only-of-type {\n",
       "        vertical-align: middle;\n",
       "    }\n",
       "\n",
       "    .dataframe tbody tr th {\n",
       "        vertical-align: top;\n",
       "    }\n",
       "\n",
       "    .dataframe thead th {\n",
       "        text-align: right;\n",
       "    }\n",
       "</style>\n",
       "<table border=\"1\" class=\"dataframe\">\n",
       "  <thead>\n",
       "    <tr style=\"text-align: right;\">\n",
       "      <th></th>\n",
       "      <th>SubjectID</th>\n",
       "      <th>VideoID</th>\n",
       "      <th>Attention</th>\n",
       "      <th>Mediation</th>\n",
       "      <th>Raw</th>\n",
       "      <th>Delta</th>\n",
       "      <th>Theta</th>\n",
       "      <th>Alpha1</th>\n",
       "      <th>Alpha2</th>\n",
       "      <th>Beta1</th>\n",
       "      <th>Beta2</th>\n",
       "      <th>Gamma1</th>\n",
       "      <th>Gamma2</th>\n",
       "      <th>predefinedlabel</th>\n",
       "      <th>user-definedlabeln</th>\n",
       "    </tr>\n",
       "  </thead>\n",
       "  <tbody>\n",
       "    <tr>\n",
       "      <th>0</th>\n",
       "      <td>0.0</td>\n",
       "      <td>0.0</td>\n",
       "      <td>56.0</td>\n",
       "      <td>43.0</td>\n",
       "      <td>278.0</td>\n",
       "      <td>301963.0</td>\n",
       "      <td>90612.0</td>\n",
       "      <td>33735.0</td>\n",
       "      <td>23991.0</td>\n",
       "      <td>27946.0</td>\n",
       "      <td>45097.0</td>\n",
       "      <td>33228.0</td>\n",
       "      <td>8293.0</td>\n",
       "      <td>0.0</td>\n",
       "      <td>0.0</td>\n",
       "    </tr>\n",
       "    <tr>\n",
       "      <th>1</th>\n",
       "      <td>0.0</td>\n",
       "      <td>0.0</td>\n",
       "      <td>40.0</td>\n",
       "      <td>35.0</td>\n",
       "      <td>-50.0</td>\n",
       "      <td>73787.0</td>\n",
       "      <td>28083.0</td>\n",
       "      <td>1439.0</td>\n",
       "      <td>2240.0</td>\n",
       "      <td>2746.0</td>\n",
       "      <td>3687.0</td>\n",
       "      <td>5293.0</td>\n",
       "      <td>2740.0</td>\n",
       "      <td>0.0</td>\n",
       "      <td>0.0</td>\n",
       "    </tr>\n",
       "    <tr>\n",
       "      <th>2</th>\n",
       "      <td>0.0</td>\n",
       "      <td>0.0</td>\n",
       "      <td>47.0</td>\n",
       "      <td>48.0</td>\n",
       "      <td>101.0</td>\n",
       "      <td>758353.0</td>\n",
       "      <td>383745.0</td>\n",
       "      <td>201999.0</td>\n",
       "      <td>62107.0</td>\n",
       "      <td>36293.0</td>\n",
       "      <td>130536.0</td>\n",
       "      <td>57243.0</td>\n",
       "      <td>25354.0</td>\n",
       "      <td>0.0</td>\n",
       "      <td>0.0</td>\n",
       "    </tr>\n",
       "    <tr>\n",
       "      <th>3</th>\n",
       "      <td>0.0</td>\n",
       "      <td>0.0</td>\n",
       "      <td>47.0</td>\n",
       "      <td>57.0</td>\n",
       "      <td>-5.0</td>\n",
       "      <td>2012240.0</td>\n",
       "      <td>129350.0</td>\n",
       "      <td>61236.0</td>\n",
       "      <td>17084.0</td>\n",
       "      <td>11488.0</td>\n",
       "      <td>62462.0</td>\n",
       "      <td>49960.0</td>\n",
       "      <td>33932.0</td>\n",
       "      <td>0.0</td>\n",
       "      <td>0.0</td>\n",
       "    </tr>\n",
       "    <tr>\n",
       "      <th>4</th>\n",
       "      <td>0.0</td>\n",
       "      <td>0.0</td>\n",
       "      <td>44.0</td>\n",
       "      <td>53.0</td>\n",
       "      <td>-8.0</td>\n",
       "      <td>1005145.0</td>\n",
       "      <td>354328.0</td>\n",
       "      <td>37102.0</td>\n",
       "      <td>88881.0</td>\n",
       "      <td>45307.0</td>\n",
       "      <td>99603.0</td>\n",
       "      <td>44790.0</td>\n",
       "      <td>29749.0</td>\n",
       "      <td>0.0</td>\n",
       "      <td>0.0</td>\n",
       "    </tr>\n",
       "  </tbody>\n",
       "</table>\n",
       "</div>"
      ],
      "text/plain": [
       "   SubjectID  VideoID  Attention  Mediation    Raw      Delta     Theta  \\\n",
       "0        0.0      0.0       56.0       43.0  278.0   301963.0   90612.0   \n",
       "1        0.0      0.0       40.0       35.0  -50.0    73787.0   28083.0   \n",
       "2        0.0      0.0       47.0       48.0  101.0   758353.0  383745.0   \n",
       "3        0.0      0.0       47.0       57.0   -5.0  2012240.0  129350.0   \n",
       "4        0.0      0.0       44.0       53.0   -8.0  1005145.0  354328.0   \n",
       "\n",
       "     Alpha1   Alpha2    Beta1     Beta2   Gamma1   Gamma2  predefinedlabel  \\\n",
       "0   33735.0  23991.0  27946.0   45097.0  33228.0   8293.0              0.0   \n",
       "1    1439.0   2240.0   2746.0    3687.0   5293.0   2740.0              0.0   \n",
       "2  201999.0  62107.0  36293.0  130536.0  57243.0  25354.0              0.0   \n",
       "3   61236.0  17084.0  11488.0   62462.0  49960.0  33932.0              0.0   \n",
       "4   37102.0  88881.0  45307.0   99603.0  44790.0  29749.0              0.0   \n",
       "\n",
       "   user-definedlabeln  \n",
       "0                 0.0  \n",
       "1                 0.0  \n",
       "2                 0.0  \n",
       "3                 0.0  \n",
       "4                 0.0  "
      ]
     },
     "execution_count": 3,
     "metadata": {},
     "output_type": "execute_result"
    }
   ],
   "source": [
    "df.head()"
   ]
  },
  {
   "cell_type": "code",
   "execution_count": 4,
   "metadata": {},
   "outputs": [
    {
     "data": {
      "text/plain": [
       "(12811, 15)"
      ]
     },
     "execution_count": 4,
     "metadata": {},
     "output_type": "execute_result"
    }
   ],
   "source": [
    "df.shape"
   ]
  },
  {
   "cell_type": "code",
   "execution_count": 5,
   "metadata": {},
   "outputs": [],
   "source": [
    "df.drop(df[df['SubjectID'] == 6.0].index, inplace = True) "
   ]
  },
  {
   "cell_type": "code",
   "execution_count": 6,
   "metadata": {},
   "outputs": [
    {
     "data": {
      "text/plain": [
       "(11536, 15)"
      ]
     },
     "execution_count": 6,
     "metadata": {},
     "output_type": "execute_result"
    }
   ],
   "source": [
    "df.shape"
   ]
  },
  {
   "cell_type": "code",
   "execution_count": 7,
   "metadata": {},
   "outputs": [
    {
     "data": {
      "text/html": [
       "<div>\n",
       "<style scoped>\n",
       "    .dataframe tbody tr th:only-of-type {\n",
       "        vertical-align: middle;\n",
       "    }\n",
       "\n",
       "    .dataframe tbody tr th {\n",
       "        vertical-align: top;\n",
       "    }\n",
       "\n",
       "    .dataframe thead th {\n",
       "        text-align: right;\n",
       "    }\n",
       "</style>\n",
       "<table border=\"1\" class=\"dataframe\">\n",
       "  <thead>\n",
       "    <tr style=\"text-align: right;\">\n",
       "      <th></th>\n",
       "      <th>SubjectID</th>\n",
       "      <th>VideoID</th>\n",
       "      <th>Attention</th>\n",
       "      <th>Mediation</th>\n",
       "      <th>Raw</th>\n",
       "      <th>Delta</th>\n",
       "      <th>Theta</th>\n",
       "      <th>Alpha1</th>\n",
       "      <th>Alpha2</th>\n",
       "      <th>Beta1</th>\n",
       "      <th>Beta2</th>\n",
       "      <th>Gamma1</th>\n",
       "      <th>Gamma2</th>\n",
       "      <th>predefinedlabel</th>\n",
       "      <th>user-definedlabeln</th>\n",
       "    </tr>\n",
       "  </thead>\n",
       "  <tbody>\n",
       "    <tr>\n",
       "      <th>count</th>\n",
       "      <td>11536.000000</td>\n",
       "      <td>11536.000000</td>\n",
       "      <td>11536.000000</td>\n",
       "      <td>11536.000000</td>\n",
       "      <td>11536.000000</td>\n",
       "      <td>1.153600e+04</td>\n",
       "      <td>1.153600e+04</td>\n",
       "      <td>1.153600e+04</td>\n",
       "      <td>1.153600e+04</td>\n",
       "      <td>11536.000000</td>\n",
       "      <td>1.153600e+04</td>\n",
       "      <td>11536.000000</td>\n",
       "      <td>11536.000000</td>\n",
       "      <td>11536.000000</td>\n",
       "      <td>11536.000000</td>\n",
       "    </tr>\n",
       "    <tr>\n",
       "      <th>mean</th>\n",
       "      <td>4.320215</td>\n",
       "      <td>4.388610</td>\n",
       "      <td>45.880028</td>\n",
       "      <td>52.397451</td>\n",
       "      <td>34.339806</td>\n",
       "      <td>5.900149e+05</td>\n",
       "      <td>1.588479e+05</td>\n",
       "      <td>3.857353e+04</td>\n",
       "      <td>2.816351e+04</td>\n",
       "      <td>20256.508148</td>\n",
       "      <td>2.462005e+04</td>\n",
       "      <td>16925.292042</td>\n",
       "      <td>8214.482490</td>\n",
       "      <td>0.480062</td>\n",
       "      <td>0.513956</td>\n",
       "    </tr>\n",
       "    <tr>\n",
       "      <th>std</th>\n",
       "      <td>2.972714</td>\n",
       "      <td>2.912194</td>\n",
       "      <td>19.641741</td>\n",
       "      <td>17.226824</td>\n",
       "      <td>131.652667</td>\n",
       "      <td>6.365997e+05</td>\n",
       "      <td>2.365106e+05</td>\n",
       "      <td>6.860648e+04</td>\n",
       "      <td>4.838641e+04</td>\n",
       "      <td>29163.164448</td>\n",
       "      <td>3.711200e+04</td>\n",
       "      <td>25797.069942</td>\n",
       "      <td>11541.638785</td>\n",
       "      <td>0.499624</td>\n",
       "      <td>0.499827</td>\n",
       "    </tr>\n",
       "    <tr>\n",
       "      <th>min</th>\n",
       "      <td>0.000000</td>\n",
       "      <td>0.000000</td>\n",
       "      <td>0.000000</td>\n",
       "      <td>0.000000</td>\n",
       "      <td>-2048.000000</td>\n",
       "      <td>4.480000e+02</td>\n",
       "      <td>1.700000e+01</td>\n",
       "      <td>2.000000e+00</td>\n",
       "      <td>2.000000e+00</td>\n",
       "      <td>3.000000</td>\n",
       "      <td>2.000000e+00</td>\n",
       "      <td>1.000000</td>\n",
       "      <td>2.000000</td>\n",
       "      <td>0.000000</td>\n",
       "      <td>0.000000</td>\n",
       "    </tr>\n",
       "    <tr>\n",
       "      <th>25%</th>\n",
       "      <td>2.000000</td>\n",
       "      <td>2.000000</td>\n",
       "      <td>34.000000</td>\n",
       "      <td>43.000000</td>\n",
       "      <td>-10.000000</td>\n",
       "      <td>9.010200e+04</td>\n",
       "      <td>2.408875e+04</td>\n",
       "      <td>6.628750e+03</td>\n",
       "      <td>6.465750e+03</td>\n",
       "      <td>5678.000000</td>\n",
       "      <td>6.952000e+03</td>\n",
       "      <td>3758.000000</td>\n",
       "      <td>1959.750000</td>\n",
       "      <td>0.000000</td>\n",
       "      <td>0.000000</td>\n",
       "    </tr>\n",
       "    <tr>\n",
       "      <th>50%</th>\n",
       "      <td>4.000000</td>\n",
       "      <td>4.000000</td>\n",
       "      <td>47.000000</td>\n",
       "      <td>53.000000</td>\n",
       "      <td>34.000000</td>\n",
       "      <td>3.684790e+05</td>\n",
       "      <td>7.338950e+04</td>\n",
       "      <td>1.645600e+04</td>\n",
       "      <td>1.386600e+04</td>\n",
       "      <td>11598.000000</td>\n",
       "      <td>1.417650e+04</td>\n",
       "      <td>8590.000000</td>\n",
       "      <td>4470.000000</td>\n",
       "      <td>0.000000</td>\n",
       "      <td>1.000000</td>\n",
       "    </tr>\n",
       "    <tr>\n",
       "      <th>75%</th>\n",
       "      <td>7.000000</td>\n",
       "      <td>7.000000</td>\n",
       "      <td>60.000000</td>\n",
       "      <td>64.000000</td>\n",
       "      <td>80.000000</td>\n",
       "      <td>8.913540e+05</td>\n",
       "      <td>1.905018e+05</td>\n",
       "      <td>4.117225e+04</td>\n",
       "      <td>3.042725e+04</td>\n",
       "      <td>24025.750000</td>\n",
       "      <td>2.923800e+04</td>\n",
       "      <td>19290.000000</td>\n",
       "      <td>9829.500000</td>\n",
       "      <td>1.000000</td>\n",
       "      <td>1.000000</td>\n",
       "    </tr>\n",
       "    <tr>\n",
       "      <th>max</th>\n",
       "      <td>9.000000</td>\n",
       "      <td>9.000000</td>\n",
       "      <td>100.000000</td>\n",
       "      <td>100.000000</td>\n",
       "      <td>1440.000000</td>\n",
       "      <td>3.964663e+06</td>\n",
       "      <td>2.567643e+06</td>\n",
       "      <td>1.369955e+06</td>\n",
       "      <td>1.016913e+06</td>\n",
       "      <td>840994.000000</td>\n",
       "      <td>1.083461e+06</td>\n",
       "      <td>658008.000000</td>\n",
       "      <td>283517.000000</td>\n",
       "      <td>1.000000</td>\n",
       "      <td>1.000000</td>\n",
       "    </tr>\n",
       "  </tbody>\n",
       "</table>\n",
       "</div>"
      ],
      "text/plain": [
       "          SubjectID       VideoID     Attention     Mediation           Raw  \\\n",
       "count  11536.000000  11536.000000  11536.000000  11536.000000  11536.000000   \n",
       "mean       4.320215      4.388610     45.880028     52.397451     34.339806   \n",
       "std        2.972714      2.912194     19.641741     17.226824    131.652667   \n",
       "min        0.000000      0.000000      0.000000      0.000000  -2048.000000   \n",
       "25%        2.000000      2.000000     34.000000     43.000000    -10.000000   \n",
       "50%        4.000000      4.000000     47.000000     53.000000     34.000000   \n",
       "75%        7.000000      7.000000     60.000000     64.000000     80.000000   \n",
       "max        9.000000      9.000000    100.000000    100.000000   1440.000000   \n",
       "\n",
       "              Delta         Theta        Alpha1        Alpha2          Beta1  \\\n",
       "count  1.153600e+04  1.153600e+04  1.153600e+04  1.153600e+04   11536.000000   \n",
       "mean   5.900149e+05  1.588479e+05  3.857353e+04  2.816351e+04   20256.508148   \n",
       "std    6.365997e+05  2.365106e+05  6.860648e+04  4.838641e+04   29163.164448   \n",
       "min    4.480000e+02  1.700000e+01  2.000000e+00  2.000000e+00       3.000000   \n",
       "25%    9.010200e+04  2.408875e+04  6.628750e+03  6.465750e+03    5678.000000   \n",
       "50%    3.684790e+05  7.338950e+04  1.645600e+04  1.386600e+04   11598.000000   \n",
       "75%    8.913540e+05  1.905018e+05  4.117225e+04  3.042725e+04   24025.750000   \n",
       "max    3.964663e+06  2.567643e+06  1.369955e+06  1.016913e+06  840994.000000   \n",
       "\n",
       "              Beta2         Gamma1         Gamma2  predefinedlabel  \\\n",
       "count  1.153600e+04   11536.000000   11536.000000     11536.000000   \n",
       "mean   2.462005e+04   16925.292042    8214.482490         0.480062   \n",
       "std    3.711200e+04   25797.069942   11541.638785         0.499624   \n",
       "min    2.000000e+00       1.000000       2.000000         0.000000   \n",
       "25%    6.952000e+03    3758.000000    1959.750000         0.000000   \n",
       "50%    1.417650e+04    8590.000000    4470.000000         0.000000   \n",
       "75%    2.923800e+04   19290.000000    9829.500000         1.000000   \n",
       "max    1.083461e+06  658008.000000  283517.000000         1.000000   \n",
       "\n",
       "       user-definedlabeln  \n",
       "count        11536.000000  \n",
       "mean             0.513956  \n",
       "std              0.499827  \n",
       "min              0.000000  \n",
       "25%              0.000000  \n",
       "50%              1.000000  \n",
       "75%              1.000000  \n",
       "max              1.000000  "
      ]
     },
     "execution_count": 7,
     "metadata": {},
     "output_type": "execute_result"
    }
   ],
   "source": [
    "df.describe()"
   ]
  },
  {
   "cell_type": "code",
   "execution_count": 8,
   "metadata": {},
   "outputs": [
    {
     "data": {
      "text/html": [
       "<div>\n",
       "<style scoped>\n",
       "    .dataframe tbody tr th:only-of-type {\n",
       "        vertical-align: middle;\n",
       "    }\n",
       "\n",
       "    .dataframe tbody tr th {\n",
       "        vertical-align: top;\n",
       "    }\n",
       "\n",
       "    .dataframe thead th {\n",
       "        text-align: right;\n",
       "    }\n",
       "</style>\n",
       "<table border=\"1\" class=\"dataframe\">\n",
       "  <thead>\n",
       "    <tr style=\"text-align: right;\">\n",
       "      <th></th>\n",
       "      <th>SubjectID</th>\n",
       "      <th>VideoID</th>\n",
       "      <th>Attention</th>\n",
       "      <th>Mediation</th>\n",
       "      <th>Raw</th>\n",
       "      <th>Delta</th>\n",
       "      <th>Theta</th>\n",
       "      <th>Alpha1</th>\n",
       "      <th>Alpha2</th>\n",
       "      <th>Beta1</th>\n",
       "      <th>Beta2</th>\n",
       "      <th>Gamma1</th>\n",
       "      <th>Gamma2</th>\n",
       "      <th>predefinedlabel</th>\n",
       "      <th>user-definedlabeln</th>\n",
       "    </tr>\n",
       "  </thead>\n",
       "  <tbody>\n",
       "    <tr>\n",
       "      <th>0</th>\n",
       "      <td>0.0</td>\n",
       "      <td>0.0</td>\n",
       "      <td>56.0</td>\n",
       "      <td>43.0</td>\n",
       "      <td>278.0</td>\n",
       "      <td>301963.0</td>\n",
       "      <td>90612.0</td>\n",
       "      <td>33735.0</td>\n",
       "      <td>23991.0</td>\n",
       "      <td>27946.0</td>\n",
       "      <td>45097.0</td>\n",
       "      <td>33228.0</td>\n",
       "      <td>8293.0</td>\n",
       "      <td>0.0</td>\n",
       "      <td>0.0</td>\n",
       "    </tr>\n",
       "    <tr>\n",
       "      <th>1</th>\n",
       "      <td>0.0</td>\n",
       "      <td>0.0</td>\n",
       "      <td>40.0</td>\n",
       "      <td>35.0</td>\n",
       "      <td>-50.0</td>\n",
       "      <td>73787.0</td>\n",
       "      <td>28083.0</td>\n",
       "      <td>1439.0</td>\n",
       "      <td>2240.0</td>\n",
       "      <td>2746.0</td>\n",
       "      <td>3687.0</td>\n",
       "      <td>5293.0</td>\n",
       "      <td>2740.0</td>\n",
       "      <td>0.0</td>\n",
       "      <td>0.0</td>\n",
       "    </tr>\n",
       "    <tr>\n",
       "      <th>2</th>\n",
       "      <td>0.0</td>\n",
       "      <td>0.0</td>\n",
       "      <td>47.0</td>\n",
       "      <td>48.0</td>\n",
       "      <td>101.0</td>\n",
       "      <td>758353.0</td>\n",
       "      <td>383745.0</td>\n",
       "      <td>201999.0</td>\n",
       "      <td>62107.0</td>\n",
       "      <td>36293.0</td>\n",
       "      <td>130536.0</td>\n",
       "      <td>57243.0</td>\n",
       "      <td>25354.0</td>\n",
       "      <td>0.0</td>\n",
       "      <td>0.0</td>\n",
       "    </tr>\n",
       "    <tr>\n",
       "      <th>3</th>\n",
       "      <td>0.0</td>\n",
       "      <td>0.0</td>\n",
       "      <td>47.0</td>\n",
       "      <td>57.0</td>\n",
       "      <td>-5.0</td>\n",
       "      <td>2012240.0</td>\n",
       "      <td>129350.0</td>\n",
       "      <td>61236.0</td>\n",
       "      <td>17084.0</td>\n",
       "      <td>11488.0</td>\n",
       "      <td>62462.0</td>\n",
       "      <td>49960.0</td>\n",
       "      <td>33932.0</td>\n",
       "      <td>0.0</td>\n",
       "      <td>0.0</td>\n",
       "    </tr>\n",
       "    <tr>\n",
       "      <th>4</th>\n",
       "      <td>0.0</td>\n",
       "      <td>0.0</td>\n",
       "      <td>44.0</td>\n",
       "      <td>53.0</td>\n",
       "      <td>-8.0</td>\n",
       "      <td>1005145.0</td>\n",
       "      <td>354328.0</td>\n",
       "      <td>37102.0</td>\n",
       "      <td>88881.0</td>\n",
       "      <td>45307.0</td>\n",
       "      <td>99603.0</td>\n",
       "      <td>44790.0</td>\n",
       "      <td>29749.0</td>\n",
       "      <td>0.0</td>\n",
       "      <td>0.0</td>\n",
       "    </tr>\n",
       "  </tbody>\n",
       "</table>\n",
       "</div>"
      ],
      "text/plain": [
       "   SubjectID  VideoID  Attention  Mediation    Raw      Delta     Theta  \\\n",
       "0        0.0      0.0       56.0       43.0  278.0   301963.0   90612.0   \n",
       "1        0.0      0.0       40.0       35.0  -50.0    73787.0   28083.0   \n",
       "2        0.0      0.0       47.0       48.0  101.0   758353.0  383745.0   \n",
       "3        0.0      0.0       47.0       57.0   -5.0  2012240.0  129350.0   \n",
       "4        0.0      0.0       44.0       53.0   -8.0  1005145.0  354328.0   \n",
       "\n",
       "     Alpha1   Alpha2    Beta1     Beta2   Gamma1   Gamma2  predefinedlabel  \\\n",
       "0   33735.0  23991.0  27946.0   45097.0  33228.0   8293.0              0.0   \n",
       "1    1439.0   2240.0   2746.0    3687.0   5293.0   2740.0              0.0   \n",
       "2  201999.0  62107.0  36293.0  130536.0  57243.0  25354.0              0.0   \n",
       "3   61236.0  17084.0  11488.0   62462.0  49960.0  33932.0              0.0   \n",
       "4   37102.0  88881.0  45307.0   99603.0  44790.0  29749.0              0.0   \n",
       "\n",
       "   user-definedlabeln  \n",
       "0                 0.0  \n",
       "1                 0.0  \n",
       "2                 0.0  \n",
       "3                 0.0  \n",
       "4                 0.0  "
      ]
     },
     "execution_count": 8,
     "metadata": {},
     "output_type": "execute_result"
    }
   ],
   "source": [
    "df.head()"
   ]
  },
  {
   "cell_type": "code",
   "execution_count": 9,
   "metadata": {},
   "outputs": [],
   "source": [
    "df.drop(['SubjectID', 'predefinedlabel'], axis=1, inplace=True)\n",
    "#df.drop(['SubjectID', 'VideoID', 'predefinedlabel'], axis=1, inplace=True)"
   ]
  },
  {
   "cell_type": "code",
   "execution_count": 10,
   "metadata": {},
   "outputs": [
    {
     "data": {
      "text/html": [
       "<div>\n",
       "<style scoped>\n",
       "    .dataframe tbody tr th:only-of-type {\n",
       "        vertical-align: middle;\n",
       "    }\n",
       "\n",
       "    .dataframe tbody tr th {\n",
       "        vertical-align: top;\n",
       "    }\n",
       "\n",
       "    .dataframe thead th {\n",
       "        text-align: right;\n",
       "    }\n",
       "</style>\n",
       "<table border=\"1\" class=\"dataframe\">\n",
       "  <thead>\n",
       "    <tr style=\"text-align: right;\">\n",
       "      <th></th>\n",
       "      <th>VideoID</th>\n",
       "      <th>Attention</th>\n",
       "      <th>Mediation</th>\n",
       "      <th>Raw</th>\n",
       "      <th>Delta</th>\n",
       "      <th>Theta</th>\n",
       "      <th>Alpha1</th>\n",
       "      <th>Alpha2</th>\n",
       "      <th>Beta1</th>\n",
       "      <th>Beta2</th>\n",
       "      <th>Gamma1</th>\n",
       "      <th>Gamma2</th>\n",
       "      <th>user-definedlabeln</th>\n",
       "    </tr>\n",
       "  </thead>\n",
       "  <tbody>\n",
       "    <tr>\n",
       "      <th>0</th>\n",
       "      <td>0.0</td>\n",
       "      <td>56.0</td>\n",
       "      <td>43.0</td>\n",
       "      <td>278.0</td>\n",
       "      <td>301963.0</td>\n",
       "      <td>90612.0</td>\n",
       "      <td>33735.0</td>\n",
       "      <td>23991.0</td>\n",
       "      <td>27946.0</td>\n",
       "      <td>45097.0</td>\n",
       "      <td>33228.0</td>\n",
       "      <td>8293.0</td>\n",
       "      <td>0.0</td>\n",
       "    </tr>\n",
       "    <tr>\n",
       "      <th>1</th>\n",
       "      <td>0.0</td>\n",
       "      <td>40.0</td>\n",
       "      <td>35.0</td>\n",
       "      <td>-50.0</td>\n",
       "      <td>73787.0</td>\n",
       "      <td>28083.0</td>\n",
       "      <td>1439.0</td>\n",
       "      <td>2240.0</td>\n",
       "      <td>2746.0</td>\n",
       "      <td>3687.0</td>\n",
       "      <td>5293.0</td>\n",
       "      <td>2740.0</td>\n",
       "      <td>0.0</td>\n",
       "    </tr>\n",
       "    <tr>\n",
       "      <th>2</th>\n",
       "      <td>0.0</td>\n",
       "      <td>47.0</td>\n",
       "      <td>48.0</td>\n",
       "      <td>101.0</td>\n",
       "      <td>758353.0</td>\n",
       "      <td>383745.0</td>\n",
       "      <td>201999.0</td>\n",
       "      <td>62107.0</td>\n",
       "      <td>36293.0</td>\n",
       "      <td>130536.0</td>\n",
       "      <td>57243.0</td>\n",
       "      <td>25354.0</td>\n",
       "      <td>0.0</td>\n",
       "    </tr>\n",
       "    <tr>\n",
       "      <th>3</th>\n",
       "      <td>0.0</td>\n",
       "      <td>47.0</td>\n",
       "      <td>57.0</td>\n",
       "      <td>-5.0</td>\n",
       "      <td>2012240.0</td>\n",
       "      <td>129350.0</td>\n",
       "      <td>61236.0</td>\n",
       "      <td>17084.0</td>\n",
       "      <td>11488.0</td>\n",
       "      <td>62462.0</td>\n",
       "      <td>49960.0</td>\n",
       "      <td>33932.0</td>\n",
       "      <td>0.0</td>\n",
       "    </tr>\n",
       "    <tr>\n",
       "      <th>4</th>\n",
       "      <td>0.0</td>\n",
       "      <td>44.0</td>\n",
       "      <td>53.0</td>\n",
       "      <td>-8.0</td>\n",
       "      <td>1005145.0</td>\n",
       "      <td>354328.0</td>\n",
       "      <td>37102.0</td>\n",
       "      <td>88881.0</td>\n",
       "      <td>45307.0</td>\n",
       "      <td>99603.0</td>\n",
       "      <td>44790.0</td>\n",
       "      <td>29749.0</td>\n",
       "      <td>0.0</td>\n",
       "    </tr>\n",
       "  </tbody>\n",
       "</table>\n",
       "</div>"
      ],
      "text/plain": [
       "   VideoID  Attention  Mediation    Raw      Delta     Theta    Alpha1  \\\n",
       "0      0.0       56.0       43.0  278.0   301963.0   90612.0   33735.0   \n",
       "1      0.0       40.0       35.0  -50.0    73787.0   28083.0    1439.0   \n",
       "2      0.0       47.0       48.0  101.0   758353.0  383745.0  201999.0   \n",
       "3      0.0       47.0       57.0   -5.0  2012240.0  129350.0   61236.0   \n",
       "4      0.0       44.0       53.0   -8.0  1005145.0  354328.0   37102.0   \n",
       "\n",
       "    Alpha2    Beta1     Beta2   Gamma1   Gamma2  user-definedlabeln  \n",
       "0  23991.0  27946.0   45097.0  33228.0   8293.0                 0.0  \n",
       "1   2240.0   2746.0    3687.0   5293.0   2740.0                 0.0  \n",
       "2  62107.0  36293.0  130536.0  57243.0  25354.0                 0.0  \n",
       "3  17084.0  11488.0   62462.0  49960.0  33932.0                 0.0  \n",
       "4  88881.0  45307.0   99603.0  44790.0  29749.0                 0.0  "
      ]
     },
     "execution_count": 10,
     "metadata": {},
     "output_type": "execute_result"
    }
   ],
   "source": [
    "df.head()"
   ]
  },
  {
   "cell_type": "code",
   "execution_count": 11,
   "metadata": {},
   "outputs": [
    {
     "data": {
      "text/plain": [
       "(11536, 13)"
      ]
     },
     "execution_count": 11,
     "metadata": {},
     "output_type": "execute_result"
    }
   ],
   "source": [
    "df.shape"
   ]
  },
  {
   "cell_type": "code",
   "execution_count": 12,
   "metadata": {},
   "outputs": [
    {
     "data": {
      "text/html": [
       "<div>\n",
       "<style scoped>\n",
       "    .dataframe tbody tr th:only-of-type {\n",
       "        vertical-align: middle;\n",
       "    }\n",
       "\n",
       "    .dataframe tbody tr th {\n",
       "        vertical-align: top;\n",
       "    }\n",
       "\n",
       "    .dataframe thead th {\n",
       "        text-align: right;\n",
       "    }\n",
       "</style>\n",
       "<table border=\"1\" class=\"dataframe\">\n",
       "  <thead>\n",
       "    <tr style=\"text-align: right;\">\n",
       "      <th></th>\n",
       "      <th>VideoID</th>\n",
       "      <th>Attention</th>\n",
       "      <th>Mediation</th>\n",
       "      <th>Raw</th>\n",
       "      <th>Delta</th>\n",
       "      <th>Theta</th>\n",
       "      <th>Alpha1</th>\n",
       "      <th>Alpha2</th>\n",
       "      <th>Beta1</th>\n",
       "      <th>Beta2</th>\n",
       "      <th>Gamma1</th>\n",
       "      <th>Gamma2</th>\n",
       "      <th>user-definedlabeln</th>\n",
       "    </tr>\n",
       "  </thead>\n",
       "  <tbody>\n",
       "    <tr>\n",
       "      <th>count</th>\n",
       "      <td>11536.000000</td>\n",
       "      <td>11536.000000</td>\n",
       "      <td>11536.000000</td>\n",
       "      <td>11536.000000</td>\n",
       "      <td>1.153600e+04</td>\n",
       "      <td>1.153600e+04</td>\n",
       "      <td>1.153600e+04</td>\n",
       "      <td>1.153600e+04</td>\n",
       "      <td>11536.000000</td>\n",
       "      <td>1.153600e+04</td>\n",
       "      <td>11536.000000</td>\n",
       "      <td>11536.000000</td>\n",
       "      <td>11536.000000</td>\n",
       "    </tr>\n",
       "    <tr>\n",
       "      <th>mean</th>\n",
       "      <td>4.388610</td>\n",
       "      <td>45.880028</td>\n",
       "      <td>52.397451</td>\n",
       "      <td>34.339806</td>\n",
       "      <td>5.900149e+05</td>\n",
       "      <td>1.588479e+05</td>\n",
       "      <td>3.857353e+04</td>\n",
       "      <td>2.816351e+04</td>\n",
       "      <td>20256.508148</td>\n",
       "      <td>2.462005e+04</td>\n",
       "      <td>16925.292042</td>\n",
       "      <td>8214.482490</td>\n",
       "      <td>0.513956</td>\n",
       "    </tr>\n",
       "    <tr>\n",
       "      <th>std</th>\n",
       "      <td>2.912194</td>\n",
       "      <td>19.641741</td>\n",
       "      <td>17.226824</td>\n",
       "      <td>131.652667</td>\n",
       "      <td>6.365997e+05</td>\n",
       "      <td>2.365106e+05</td>\n",
       "      <td>6.860648e+04</td>\n",
       "      <td>4.838641e+04</td>\n",
       "      <td>29163.164448</td>\n",
       "      <td>3.711200e+04</td>\n",
       "      <td>25797.069942</td>\n",
       "      <td>11541.638785</td>\n",
       "      <td>0.499827</td>\n",
       "    </tr>\n",
       "    <tr>\n",
       "      <th>min</th>\n",
       "      <td>0.000000</td>\n",
       "      <td>0.000000</td>\n",
       "      <td>0.000000</td>\n",
       "      <td>-2048.000000</td>\n",
       "      <td>4.480000e+02</td>\n",
       "      <td>1.700000e+01</td>\n",
       "      <td>2.000000e+00</td>\n",
       "      <td>2.000000e+00</td>\n",
       "      <td>3.000000</td>\n",
       "      <td>2.000000e+00</td>\n",
       "      <td>1.000000</td>\n",
       "      <td>2.000000</td>\n",
       "      <td>0.000000</td>\n",
       "    </tr>\n",
       "    <tr>\n",
       "      <th>25%</th>\n",
       "      <td>2.000000</td>\n",
       "      <td>34.000000</td>\n",
       "      <td>43.000000</td>\n",
       "      <td>-10.000000</td>\n",
       "      <td>9.010200e+04</td>\n",
       "      <td>2.408875e+04</td>\n",
       "      <td>6.628750e+03</td>\n",
       "      <td>6.465750e+03</td>\n",
       "      <td>5678.000000</td>\n",
       "      <td>6.952000e+03</td>\n",
       "      <td>3758.000000</td>\n",
       "      <td>1959.750000</td>\n",
       "      <td>0.000000</td>\n",
       "    </tr>\n",
       "    <tr>\n",
       "      <th>50%</th>\n",
       "      <td>4.000000</td>\n",
       "      <td>47.000000</td>\n",
       "      <td>53.000000</td>\n",
       "      <td>34.000000</td>\n",
       "      <td>3.684790e+05</td>\n",
       "      <td>7.338950e+04</td>\n",
       "      <td>1.645600e+04</td>\n",
       "      <td>1.386600e+04</td>\n",
       "      <td>11598.000000</td>\n",
       "      <td>1.417650e+04</td>\n",
       "      <td>8590.000000</td>\n",
       "      <td>4470.000000</td>\n",
       "      <td>1.000000</td>\n",
       "    </tr>\n",
       "    <tr>\n",
       "      <th>75%</th>\n",
       "      <td>7.000000</td>\n",
       "      <td>60.000000</td>\n",
       "      <td>64.000000</td>\n",
       "      <td>80.000000</td>\n",
       "      <td>8.913540e+05</td>\n",
       "      <td>1.905018e+05</td>\n",
       "      <td>4.117225e+04</td>\n",
       "      <td>3.042725e+04</td>\n",
       "      <td>24025.750000</td>\n",
       "      <td>2.923800e+04</td>\n",
       "      <td>19290.000000</td>\n",
       "      <td>9829.500000</td>\n",
       "      <td>1.000000</td>\n",
       "    </tr>\n",
       "    <tr>\n",
       "      <th>max</th>\n",
       "      <td>9.000000</td>\n",
       "      <td>100.000000</td>\n",
       "      <td>100.000000</td>\n",
       "      <td>1440.000000</td>\n",
       "      <td>3.964663e+06</td>\n",
       "      <td>2.567643e+06</td>\n",
       "      <td>1.369955e+06</td>\n",
       "      <td>1.016913e+06</td>\n",
       "      <td>840994.000000</td>\n",
       "      <td>1.083461e+06</td>\n",
       "      <td>658008.000000</td>\n",
       "      <td>283517.000000</td>\n",
       "      <td>1.000000</td>\n",
       "    </tr>\n",
       "  </tbody>\n",
       "</table>\n",
       "</div>"
      ],
      "text/plain": [
       "            VideoID     Attention     Mediation           Raw         Delta  \\\n",
       "count  11536.000000  11536.000000  11536.000000  11536.000000  1.153600e+04   \n",
       "mean       4.388610     45.880028     52.397451     34.339806  5.900149e+05   \n",
       "std        2.912194     19.641741     17.226824    131.652667  6.365997e+05   \n",
       "min        0.000000      0.000000      0.000000  -2048.000000  4.480000e+02   \n",
       "25%        2.000000     34.000000     43.000000    -10.000000  9.010200e+04   \n",
       "50%        4.000000     47.000000     53.000000     34.000000  3.684790e+05   \n",
       "75%        7.000000     60.000000     64.000000     80.000000  8.913540e+05   \n",
       "max        9.000000    100.000000    100.000000   1440.000000  3.964663e+06   \n",
       "\n",
       "              Theta        Alpha1        Alpha2          Beta1         Beta2  \\\n",
       "count  1.153600e+04  1.153600e+04  1.153600e+04   11536.000000  1.153600e+04   \n",
       "mean   1.588479e+05  3.857353e+04  2.816351e+04   20256.508148  2.462005e+04   \n",
       "std    2.365106e+05  6.860648e+04  4.838641e+04   29163.164448  3.711200e+04   \n",
       "min    1.700000e+01  2.000000e+00  2.000000e+00       3.000000  2.000000e+00   \n",
       "25%    2.408875e+04  6.628750e+03  6.465750e+03    5678.000000  6.952000e+03   \n",
       "50%    7.338950e+04  1.645600e+04  1.386600e+04   11598.000000  1.417650e+04   \n",
       "75%    1.905018e+05  4.117225e+04  3.042725e+04   24025.750000  2.923800e+04   \n",
       "max    2.567643e+06  1.369955e+06  1.016913e+06  840994.000000  1.083461e+06   \n",
       "\n",
       "              Gamma1         Gamma2  user-definedlabeln  \n",
       "count   11536.000000   11536.000000        11536.000000  \n",
       "mean    16925.292042    8214.482490            0.513956  \n",
       "std     25797.069942   11541.638785            0.499827  \n",
       "min         1.000000       2.000000            0.000000  \n",
       "25%      3758.000000    1959.750000            0.000000  \n",
       "50%      8590.000000    4470.000000            1.000000  \n",
       "75%     19290.000000    9829.500000            1.000000  \n",
       "max    658008.000000  283517.000000            1.000000  "
      ]
     },
     "execution_count": 12,
     "metadata": {},
     "output_type": "execute_result"
    }
   ],
   "source": [
    "df.describe()"
   ]
  },
  {
   "cell_type": "code",
   "execution_count": 13,
   "metadata": {},
   "outputs": [
    {
     "data": {
      "text/plain": [
       "Index(['VideoID', 'Attention', 'Mediation', 'Raw', 'Delta', 'Theta', 'Alpha1',\n",
       "       'Alpha2', 'Beta1', 'Beta2', 'Gamma1', 'Gamma2', 'user-definedlabeln'],\n",
       "      dtype='object')"
      ]
     },
     "execution_count": 13,
     "metadata": {},
     "output_type": "execute_result"
    }
   ],
   "source": [
    "df.columns"
   ]
  },
  {
   "cell_type": "code",
   "execution_count": 14,
   "metadata": {},
   "outputs": [],
   "source": [
    "X = df.drop('user-definedlabeln',axis=1).values\n",
    "y = df['user-definedlabeln'].values"
   ]
  },
  {
   "cell_type": "markdown",
   "metadata": {},
   "source": [
    "MinMaxScaler"
   ]
  },
  {
   "cell_type": "code",
   "execution_count": 15,
   "metadata": {},
   "outputs": [],
   "source": [
    "from sklearn.preprocessing import MinMaxScaler\n",
    "from sklearn.model_selection import train_test_split\n",
    "scaler1 = MinMaxScaler()\n",
    "X1 = scaler1.fit_transform(X)\n",
    "x_train, x_test, y_train, y_test = train_test_split(X1, y, test_size=0.25, random_state=42)"
   ]
  },
  {
   "cell_type": "code",
   "execution_count": 16,
   "metadata": {},
   "outputs": [
    {
     "name": "stdout",
     "output_type": "stream",
     "text": [
      "Decision Tree\n",
      "Accuracy: 0.6889736477115118\n",
      "Precision: 0.6988873435326843\n",
      "Recall: 0.684138869979578\n",
      "F1 Score: 0.6914344685242518\n",
      "False Positive Rate: 0.30600706713780923\n",
      "False Negative Rate: 0.31586113002042204\n"
     ]
    }
   ],
   "source": [
    "from sklearn.tree import DecisionTreeClassifier \n",
    "from sklearn import metrics\n",
    "clf = DecisionTreeClassifier()\n",
    "clf = clf.fit(x_train,y_train)\n",
    "y_pred = clf.predict(x_test)\n",
    "print(\"Decision Tree\")\n",
    "print(\"Accuracy:\",metrics.accuracy_score(y_test, y_pred))\n",
    "print(\"Precision:\",metrics.precision_score(y_test, y_pred))\n",
    "print(\"Recall:\",metrics.recall_score(y_test, y_pred))\n",
    "print(\"F1 Score:\",metrics.f1_score(y_test, y_pred))\n",
    "\n",
    "from sklearn.metrics import recall_score\n",
    "tpr = recall_score(y_test, y_pred) \n",
    "tnr = recall_score(y_test, y_pred, pos_label = 0) \n",
    "fpr = 1 - tnr\n",
    "fnr = 1 - tpr\n",
    "print(\"False Positive Rate:\",fpr)\n",
    "print(\"False Negative Rate:\",fnr)"
   ]
  },
  {
   "cell_type": "code",
   "execution_count": 17,
   "metadata": {},
   "outputs": [
    {
     "name": "stdout",
     "output_type": "stream",
     "text": [
      "GNB\n",
      "Accuracy: 0.6237864077669902\n",
      "Precision: 0.638328530259366\n",
      "Recall: 0.6031313818924439\n",
      "F1 Score: 0.6202310115505775\n",
      "False Positive Rate: 0.3547703180212014\n",
      "False Negative Rate: 0.39686861810755614\n"
     ]
    }
   ],
   "source": [
    "from sklearn.naive_bayes import GaussianNB\n",
    "gnb = GaussianNB(priors=None , var_smoothing = 0.50)\n",
    "gnb.fit(x_train, y_train)\n",
    "y_pred = gnb.predict(x_test)\n",
    "print(\"GNB\")\n",
    "from sklearn import metrics\n",
    "print(\"Accuracy:\",metrics.accuracy_score(y_test, y_pred))\n",
    "print(\"Precision:\",metrics.precision_score(y_test, y_pred))\n",
    "print(\"Recall:\",metrics.recall_score(y_test, y_pred))\n",
    "print(\"F1 Score:\",metrics.f1_score(y_test, y_pred))\n",
    "\n",
    "from sklearn.metrics import recall_score\n",
    "tpr = recall_score(y_test, y_pred) \n",
    "tnr = recall_score(y_test, y_pred, pos_label = 0) \n",
    "fpr = 1 - tnr\n",
    "fnr = 1 - tpr\n",
    "print(\"False Positive Rate:\",fpr)\n",
    "print(\"False Negative Rate:\",fnr)"
   ]
  },
  {
   "cell_type": "code",
   "execution_count": 18,
   "metadata": {},
   "outputs": [
    {
     "name": "stdout",
     "output_type": "stream",
     "text": [
      "KNN\n",
      "Accuracy: 0.7163661581137309\n",
      "Precision: 0.7074569789674953\n",
      "Recall: 0.7556160653505786\n",
      "F1 Score: 0.7307439104674127\n",
      "False Positive Rate: 0.32438162544169613\n",
      "False Negative Rate: 0.24438393464942143\n"
     ]
    }
   ],
   "source": [
    "from sklearn.neighbors import KNeighborsClassifier\n",
    "knn = KNeighborsClassifier(n_neighbors=15)\n",
    "knn.fit(x_train, y_train)\n",
    "y_pred = knn.predict(x_test)\n",
    "print(\"KNN\")\n",
    "\n",
    "from sklearn import metrics\n",
    "print(\"Accuracy:\",metrics.accuracy_score(y_test, y_pred))\n",
    "print(\"Precision:\",metrics.precision_score(y_test, y_pred))\n",
    "print(\"Recall:\",metrics.recall_score(y_test, y_pred))\n",
    "print(\"F1 Score:\",metrics.f1_score(y_test, y_pred))\n",
    "\n",
    "from sklearn.metrics import recall_score\n",
    "tpr = recall_score(y_test, y_pred) \n",
    "tnr = recall_score(y_test, y_pred, pos_label = 0) \n",
    "fpr = 1 - tnr\n",
    "fnr = 1 - tpr\n",
    "print(\"False Positive Rate:\",fpr)\n",
    "print(\"False Negative Rate:\",fnr)"
   ]
  },
  {
   "cell_type": "code",
   "execution_count": 19,
   "metadata": {},
   "outputs": [
    {
     "name": "stdout",
     "output_type": "stream",
     "text": [
      "RandomForest\n",
      "Accuracy: 0.7572815533980582\n",
      "Precision: 0.7463164638052531\n",
      "Recall: 0.7930565010211028\n",
      "F1 Score: 0.768976897689769\n",
      "False Positive Rate: 0.2798586572438162\n",
      "False Negative Rate: 0.2069434989788972\n"
     ]
    }
   ],
   "source": [
    "from sklearn.ensemble import RandomForestClassifier\n",
    "\n",
    "clf=RandomForestClassifier(n_estimators=50)\n",
    "clf.fit(x_train,y_train)\n",
    "y_pred=clf.predict(x_test)\n",
    "print(\"RandomForest\")\n",
    "from sklearn import metrics\n",
    "print(\"Accuracy:\",metrics.accuracy_score(y_test, y_pred))\n",
    "print(\"Precision:\",metrics.precision_score(y_test, y_pred))\n",
    "print(\"Recall:\",metrics.recall_score(y_test, y_pred))\n",
    "print(\"F1 Score:\",metrics.f1_score(y_test, y_pred))\n",
    "\n",
    "from sklearn.metrics import recall_score\n",
    "tpr = recall_score(y_test, y_pred) \n",
    "tnr = recall_score(y_test, y_pred, pos_label = 0) \n",
    "fpr = 1 - tnr\n",
    "fnr = 1 - tpr\n",
    "print(\"False Positive Rate:\",fpr)\n",
    "print(\"False Negative Rate:\",fnr)"
   ]
  },
  {
   "cell_type": "markdown",
   "metadata": {},
   "source": [
    "StandardScaler"
   ]
  },
  {
   "cell_type": "code",
   "execution_count": 20,
   "metadata": {},
   "outputs": [],
   "source": [
    "from sklearn.preprocessing import StandardScaler\n",
    "scaler2 = StandardScaler()\n",
    "X2 = scaler2.fit_transform(X)\n",
    "x_train, x_test, y_train, y_test = train_test_split(X2, y, test_size=0.25, random_state=42)"
   ]
  },
  {
   "cell_type": "code",
   "execution_count": 21,
   "metadata": {},
   "outputs": [
    {
     "name": "stdout",
     "output_type": "stream",
     "text": [
      "Decision Tree\n",
      "Accuracy: 0.6861997226074896\n",
      "Precision: 0.6905405405405406\n",
      "Recall: 0.6957113682777399\n",
      "F1 Score: 0.6931163106137674\n",
      "False Positive Rate: 0.32367491166077733\n",
      "False Negative Rate: 0.30428863172226006\n"
     ]
    }
   ],
   "source": [
    "from sklearn.tree import DecisionTreeClassifier \n",
    "from sklearn import metrics\n",
    "clf = DecisionTreeClassifier()\n",
    "clf = clf.fit(x_train,y_train)\n",
    "y_pred = clf.predict(x_test)\n",
    "print(\"Decision Tree\")\n",
    "print(\"Accuracy:\",metrics.accuracy_score(y_test, y_pred))\n",
    "print(\"Precision:\",metrics.precision_score(y_test, y_pred))\n",
    "print(\"Recall:\",metrics.recall_score(y_test, y_pred))\n",
    "print(\"F1 Score:\",metrics.f1_score(y_test, y_pred))\n",
    "\n",
    "from sklearn.metrics import recall_score\n",
    "tpr = recall_score(y_test, y_pred) \n",
    "tnr = recall_score(y_test, y_pred, pos_label = 0) \n",
    "fpr = 1 - tnr\n",
    "fnr = 1 - tpr\n",
    "print(\"False Positive Rate:\",fpr)\n",
    "print(\"False Negative Rate:\",fnr)"
   ]
  },
  {
   "cell_type": "code",
   "execution_count": 22,
   "metadata": {},
   "outputs": [
    {
     "name": "stdout",
     "output_type": "stream",
     "text": [
      "GNB\n",
      "Accuracy: 0.5481969486823856\n",
      "Precision: 0.6577946768060836\n",
      "Recall: 0.2355343771272975\n",
      "F1 Score: 0.3468671679197995\n",
      "False Positive Rate: 0.12720848056537104\n",
      "False Negative Rate: 0.7644656228727025\n"
     ]
    }
   ],
   "source": [
    "from sklearn.naive_bayes import GaussianNB\n",
    "gnb = GaussianNB(priors=None , var_smoothing = 0.50)\n",
    "gnb.fit(x_train, y_train)\n",
    "y_pred = gnb.predict(x_test)\n",
    "print(\"GNB\")\n",
    "from sklearn import metrics\n",
    "print(\"Accuracy:\",metrics.accuracy_score(y_test, y_pred))\n",
    "print(\"Precision:\",metrics.precision_score(y_test, y_pred))\n",
    "print(\"Recall:\",metrics.recall_score(y_test, y_pred))\n",
    "print(\"F1 Score:\",metrics.f1_score(y_test, y_pred))\n",
    "\n",
    "from sklearn.metrics import recall_score\n",
    "tpr = recall_score(y_test, y_pred) \n",
    "tnr = recall_score(y_test, y_pred, pos_label = 0) \n",
    "fpr = 1 - tnr\n",
    "fnr = 1 - tpr\n",
    "print(\"False Positive Rate:\",fpr)\n",
    "print(\"False Negative Rate:\",fnr)"
   ]
  },
  {
   "cell_type": "code",
   "execution_count": 23,
   "metadata": {},
   "outputs": [
    {
     "name": "stdout",
     "output_type": "stream",
     "text": [
      "KNN\n",
      "Accuracy: 0.684119278779473\n",
      "Precision: 0.6763590391908976\n",
      "Recall: 0.7283866575901974\n",
      "F1 Score: 0.7014093739757457\n",
      "False Positive Rate: 0.36183745583038873\n",
      "False Negative Rate: 0.2716133424098026\n"
     ]
    }
   ],
   "source": [
    "from sklearn.neighbors import KNeighborsClassifier\n",
    "knn = KNeighborsClassifier(n_neighbors=15)\n",
    "knn.fit(x_train, y_train)\n",
    "y_pred = knn.predict(x_test)\n",
    "print(\"KNN\")\n",
    "\n",
    "from sklearn import metrics\n",
    "print(\"Accuracy:\",metrics.accuracy_score(y_test, y_pred))\n",
    "print(\"Precision:\",metrics.precision_score(y_test, y_pred))\n",
    "print(\"Recall:\",metrics.recall_score(y_test, y_pred))\n",
    "print(\"F1 Score:\",metrics.f1_score(y_test, y_pred))\n",
    "\n",
    "from sklearn.metrics import recall_score\n",
    "tpr = recall_score(y_test, y_pred) \n",
    "tnr = recall_score(y_test, y_pred, pos_label = 0) \n",
    "fpr = 1 - tnr\n",
    "fnr = 1 - tpr\n",
    "print(\"False Positive Rate:\",fpr)\n",
    "print(\"False Negative Rate:\",fnr)"
   ]
  },
  {
   "cell_type": "code",
   "execution_count": 24,
   "metadata": {},
   "outputs": [
    {
     "name": "stdout",
     "output_type": "stream",
     "text": [
      "RandomForest\n",
      "Accuracy: 0.7569348127600555\n",
      "Precision: 0.7496749024707412\n",
      "Recall: 0.7848876786929885\n",
      "F1 Score: 0.7668772863318921\n",
      "False Positive Rate: 0.2720848056537103\n",
      "False Negative Rate: 0.21511232130701152\n"
     ]
    }
   ],
   "source": [
    "from sklearn.ensemble import RandomForestClassifier\n",
    "\n",
    "clf=RandomForestClassifier(n_estimators=50)\n",
    "clf.fit(x_train,y_train)\n",
    "y_pred=clf.predict(x_test)\n",
    "print(\"RandomForest\")\n",
    "from sklearn import metrics\n",
    "print(\"Accuracy:\",metrics.accuracy_score(y_test, y_pred))\n",
    "print(\"Precision:\",metrics.precision_score(y_test, y_pred))\n",
    "print(\"Recall:\",metrics.recall_score(y_test, y_pred))\n",
    "print(\"F1 Score:\",metrics.f1_score(y_test, y_pred))\n",
    "\n",
    "from sklearn.metrics import recall_score\n",
    "tpr = recall_score(y_test, y_pred) \n",
    "tnr = recall_score(y_test, y_pred, pos_label = 0) \n",
    "fpr = 1 - tnr\n",
    "fnr = 1 - tpr\n",
    "print(\"False Positive Rate:\",fpr)\n",
    "print(\"False Negative Rate:\",fnr)"
   ]
  },
  {
   "cell_type": "markdown",
   "metadata": {},
   "source": [
    "MaxAbsScaler"
   ]
  },
  {
   "cell_type": "code",
   "execution_count": 25,
   "metadata": {},
   "outputs": [],
   "source": [
    "from sklearn.preprocessing import MaxAbsScaler\n",
    "scaler3 = MaxAbsScaler()\n",
    "X3 = scaler3.fit_transform(X)\n",
    "x_train, x_test, y_train, y_test = train_test_split(X3, y, test_size=0.25, random_state=42)"
   ]
  },
  {
   "cell_type": "code",
   "execution_count": 26,
   "metadata": {},
   "outputs": [
    {
     "name": "stdout",
     "output_type": "stream",
     "text": [
      "Decision Tree\n",
      "Accuracy: 0.6889736477115118\n",
      "Precision: 0.6948228882833788\n",
      "Recall: 0.6943498978897209\n",
      "F1 Score: 0.6945863125638406\n",
      "False Positive Rate: 0.3166077738515901\n",
      "False Negative Rate: 0.3056501021102791\n"
     ]
    }
   ],
   "source": [
    "from sklearn.tree import DecisionTreeClassifier \n",
    "from sklearn import metrics\n",
    "clf = DecisionTreeClassifier()\n",
    "clf = clf.fit(x_train,y_train)\n",
    "y_pred = clf.predict(x_test)\n",
    "print(\"Decision Tree\")\n",
    "print(\"Accuracy:\",metrics.accuracy_score(y_test, y_pred))\n",
    "print(\"Precision:\",metrics.precision_score(y_test, y_pred))\n",
    "print(\"Recall:\",metrics.recall_score(y_test, y_pred))\n",
    "print(\"F1 Score:\",metrics.f1_score(y_test, y_pred))\n",
    "\n",
    "from sklearn.metrics import recall_score\n",
    "tpr = recall_score(y_test, y_pred) \n",
    "tnr = recall_score(y_test, y_pred, pos_label = 0) \n",
    "fpr = 1 - tnr\n",
    "fnr = 1 - tpr\n",
    "print(\"False Positive Rate:\",fpr)\n",
    "print(\"False Negative Rate:\",fnr)"
   ]
  },
  {
   "cell_type": "code",
   "execution_count": 27,
   "metadata": {},
   "outputs": [
    {
     "name": "stdout",
     "output_type": "stream",
     "text": [
      "GNB\n",
      "Accuracy: 0.6244798890429958\n",
      "Precision: 0.637660485021398\n",
      "Recall: 0.6085772634445201\n",
      "F1 Score: 0.6227795193312435\n",
      "False Positive Rate: 0.35901060070671376\n",
      "False Negative Rate: 0.3914227365554799\n"
     ]
    }
   ],
   "source": [
    "from sklearn.naive_bayes import GaussianNB\n",
    "gnb = GaussianNB(priors=None , var_smoothing = 0.50)\n",
    "gnb.fit(x_train, y_train)\n",
    "y_pred = gnb.predict(x_test)\n",
    "print(\"GNB\")\n",
    "from sklearn import metrics\n",
    "print(\"Accuracy:\",metrics.accuracy_score(y_test, y_pred))\n",
    "print(\"Precision:\",metrics.precision_score(y_test, y_pred))\n",
    "print(\"Recall:\",metrics.recall_score(y_test, y_pred))\n",
    "print(\"F1 Score:\",metrics.f1_score(y_test, y_pred))\n",
    "\n",
    "from sklearn.metrics import recall_score\n",
    "tpr = recall_score(y_test, y_pred) \n",
    "tnr = recall_score(y_test, y_pred, pos_label = 0) \n",
    "fpr = 1 - tnr\n",
    "fnr = 1 - tpr\n",
    "print(\"False Positive Rate:\",fpr)\n",
    "print(\"False Negative Rate:\",fnr)"
   ]
  },
  {
   "cell_type": "code",
   "execution_count": 28,
   "metadata": {},
   "outputs": [
    {
     "name": "stdout",
     "output_type": "stream",
     "text": [
      "KNN\n",
      "Accuracy: 0.7111650485436893\n",
      "Precision: 0.7030651340996169\n",
      "Recall: 0.7494894486044928\n",
      "F1 Score: 0.7255354200988469\n",
      "False Positive Rate: 0.3286219081272085\n",
      "False Negative Rate: 0.25051055139550715\n"
     ]
    }
   ],
   "source": [
    "from sklearn.neighbors import KNeighborsClassifier\n",
    "knn = KNeighborsClassifier(n_neighbors=15)\n",
    "knn.fit(x_train, y_train)\n",
    "y_pred = knn.predict(x_test)\n",
    "print(\"KNN\")\n",
    "\n",
    "from sklearn import metrics\n",
    "print(\"Accuracy:\",metrics.accuracy_score(y_test, y_pred))\n",
    "print(\"Precision:\",metrics.precision_score(y_test, y_pred))\n",
    "print(\"Recall:\",metrics.recall_score(y_test, y_pred))\n",
    "print(\"F1 Score:\",metrics.f1_score(y_test, y_pred))\n",
    "\n",
    "from sklearn.metrics import recall_score\n",
    "tpr = recall_score(y_test, y_pred) \n",
    "tnr = recall_score(y_test, y_pred, pos_label = 0) \n",
    "fpr = 1 - tnr\n",
    "fnr = 1 - tpr\n",
    "print(\"False Positive Rate:\",fpr)\n",
    "print(\"False Negative Rate:\",fnr)"
   ]
  },
  {
   "cell_type": "code",
   "execution_count": 29,
   "metadata": {},
   "outputs": [
    {
     "name": "stdout",
     "output_type": "stream",
     "text": [
      "RandomForest\n",
      "Accuracy: 0.7503467406380028\n",
      "Precision: 0.736875395319418\n",
      "Recall: 0.7930565010211028\n",
      "F1 Score: 0.7639344262295081\n",
      "False Positive Rate: 0.29399293286219086\n",
      "False Negative Rate: 0.2069434989788972\n"
     ]
    }
   ],
   "source": [
    "from sklearn.ensemble import RandomForestClassifier\n",
    "\n",
    "clf=RandomForestClassifier(n_estimators=50)\n",
    "clf.fit(x_train,y_train)\n",
    "y_pred=clf.predict(x_test)\n",
    "print(\"RandomForest\")\n",
    "from sklearn import metrics\n",
    "print(\"Accuracy:\",metrics.accuracy_score(y_test, y_pred))\n",
    "print(\"Precision:\",metrics.precision_score(y_test, y_pred))\n",
    "print(\"Recall:\",metrics.recall_score(y_test, y_pred))\n",
    "print(\"F1 Score:\",metrics.f1_score(y_test, y_pred))\n",
    "\n",
    "from sklearn.metrics import recall_score\n",
    "tpr = recall_score(y_test, y_pred) \n",
    "tnr = recall_score(y_test, y_pred, pos_label = 0) \n",
    "fpr = 1 - tnr\n",
    "fnr = 1 - tpr\n",
    "print(\"False Positive Rate:\",fpr)\n",
    "print(\"False Negative Rate:\",fnr)"
   ]
  },
  {
   "cell_type": "markdown",
   "metadata": {},
   "source": [
    "Quantile Transformer Scaler"
   ]
  },
  {
   "cell_type": "code",
   "execution_count": 30,
   "metadata": {},
   "outputs": [],
   "source": [
    "from sklearn.preprocessing import QuantileTransformer\n",
    "scaler4 = QuantileTransformer()\n",
    "X4 = scaler4.fit_transform(X)\n",
    "x_train, x_test, y_train, y_test = train_test_split(X4, y, test_size=0.25, random_state=42)"
   ]
  },
  {
   "cell_type": "code",
   "execution_count": 31,
   "metadata": {},
   "outputs": [
    {
     "name": "stdout",
     "output_type": "stream",
     "text": [
      "Decision Tree\n",
      "Accuracy: 0.6910540915395285\n",
      "Precision: 0.697945205479452\n",
      "Recall: 0.6936691626957113\n",
      "F1 Score: 0.695800614544213\n",
      "False Positive Rate: 0.31166077738515896\n",
      "False Negative Rate: 0.3063308373042887\n"
     ]
    }
   ],
   "source": [
    "from sklearn.tree import DecisionTreeClassifier \n",
    "from sklearn import metrics\n",
    "clf = DecisionTreeClassifier()\n",
    "clf = clf.fit(x_train,y_train)\n",
    "y_pred = clf.predict(x_test)\n",
    "print(\"Decision Tree\")\n",
    "print(\"Accuracy:\",metrics.accuracy_score(y_test, y_pred))\n",
    "print(\"Precision:\",metrics.precision_score(y_test, y_pred))\n",
    "print(\"Recall:\",metrics.recall_score(y_test, y_pred))\n",
    "print(\"F1 Score:\",metrics.f1_score(y_test, y_pred))\n",
    "\n",
    "from sklearn.metrics import recall_score\n",
    "tpr = recall_score(y_test, y_pred) \n",
    "tnr = recall_score(y_test, y_pred, pos_label = 0) \n",
    "fpr = 1 - tnr\n",
    "fnr = 1 - tpr\n",
    "print(\"False Positive Rate:\",fpr)\n",
    "print(\"False Negative Rate:\",fnr)"
   ]
  },
  {
   "cell_type": "code",
   "execution_count": 32,
   "metadata": {},
   "outputs": [
    {
     "name": "stdout",
     "output_type": "stream",
     "text": [
      "GNB\n",
      "Accuracy: 0.6043689320388349\n",
      "Precision: 0.610512129380054\n",
      "Recall: 0.6167460857726345\n",
      "F1 Score: 0.6136132746359634\n",
      "False Positive Rate: 0.40848056537102473\n",
      "False Negative Rate: 0.38325391422736554\n"
     ]
    }
   ],
   "source": [
    "from sklearn.naive_bayes import GaussianNB\n",
    "gnb = GaussianNB(priors=None , var_smoothing = 0.50)\n",
    "gnb.fit(x_train, y_train)\n",
    "y_pred = gnb.predict(x_test)\n",
    "print(\"GNB\")\n",
    "from sklearn import metrics\n",
    "print(\"Accuracy:\",metrics.accuracy_score(y_test, y_pred))\n",
    "print(\"Precision:\",metrics.precision_score(y_test, y_pred))\n",
    "print(\"Recall:\",metrics.recall_score(y_test, y_pred))\n",
    "print(\"F1 Score:\",metrics.f1_score(y_test, y_pred))\n",
    "\n",
    "from sklearn.metrics import recall_score\n",
    "tpr = recall_score(y_test, y_pred) \n",
    "tnr = recall_score(y_test, y_pred, pos_label = 0) \n",
    "fpr = 1 - tnr\n",
    "fnr = 1 - tpr\n",
    "print(\"False Positive Rate:\",fpr)\n",
    "print(\"False Negative Rate:\",fnr)"
   ]
  },
  {
   "cell_type": "code",
   "execution_count": 33,
   "metadata": {},
   "outputs": [
    {
     "name": "stdout",
     "output_type": "stream",
     "text": [
      "KNN\n",
      "Accuracy: 0.680998613037448\n",
      "Precision: 0.6716697936210131\n",
      "Recall: 0.7311095983662356\n",
      "F1 Score: 0.7001303780964798\n",
      "False Positive Rate: 0.3710247349823321\n",
      "False Negative Rate: 0.26889040163376443\n"
     ]
    }
   ],
   "source": [
    "from sklearn.neighbors import KNeighborsClassifier\n",
    "knn = KNeighborsClassifier(n_neighbors=15)\n",
    "knn.fit(x_train, y_train)\n",
    "y_pred = knn.predict(x_test)\n",
    "print(\"KNN\")\n",
    "\n",
    "from sklearn import metrics\n",
    "print(\"Accuracy:\",metrics.accuracy_score(y_test, y_pred))\n",
    "print(\"Precision:\",metrics.precision_score(y_test, y_pred))\n",
    "print(\"Recall:\",metrics.recall_score(y_test, y_pred))\n",
    "print(\"F1 Score:\",metrics.f1_score(y_test, y_pred))\n",
    "\n",
    "from sklearn.metrics import recall_score\n",
    "tpr = recall_score(y_test, y_pred) \n",
    "tnr = recall_score(y_test, y_pred, pos_label = 0) \n",
    "fpr = 1 - tnr\n",
    "fnr = 1 - tpr\n",
    "print(\"False Positive Rate:\",fpr)\n",
    "print(\"False Negative Rate:\",fnr)"
   ]
  },
  {
   "cell_type": "code",
   "execution_count": 34,
   "metadata": {},
   "outputs": [
    {
     "name": "stdout",
     "output_type": "stream",
     "text": [
      "RandomForest\n",
      "Accuracy: 0.753120665742025\n",
      "Precision: 0.738801261829653\n",
      "Recall: 0.7971409121851599\n",
      "F1 Score: 0.7668631303208906\n",
      "False Positive Rate: 0.29257950530035337\n",
      "False Negative Rate: 0.20285908781484008\n"
     ]
    }
   ],
   "source": [
    "from sklearn.ensemble import RandomForestClassifier\n",
    "\n",
    "clf=RandomForestClassifier(n_estimators=50)\n",
    "clf.fit(x_train,y_train)\n",
    "y_pred=clf.predict(x_test)\n",
    "print(\"RandomForest\")\n",
    "from sklearn import metrics\n",
    "print(\"Accuracy:\",metrics.accuracy_score(y_test, y_pred))\n",
    "print(\"Precision:\",metrics.precision_score(y_test, y_pred))\n",
    "print(\"Recall:\",metrics.recall_score(y_test, y_pred))\n",
    "print(\"F1 Score:\",metrics.f1_score(y_test, y_pred))\n",
    "\n",
    "from sklearn.metrics import recall_score\n",
    "tpr = recall_score(y_test, y_pred) \n",
    "tnr = recall_score(y_test, y_pred, pos_label = 0) \n",
    "fpr = 1 - tnr\n",
    "fnr = 1 - tpr\n",
    "print(\"False Positive Rate:\",fpr)\n",
    "print(\"False Negative Rate:\",fnr)"
   ]
  },
  {
   "cell_type": "markdown",
   "metadata": {},
   "source": [
    "Power Transformer Scaler"
   ]
  },
  {
   "cell_type": "code",
   "execution_count": 35,
   "metadata": {},
   "outputs": [],
   "source": [
    "from sklearn.preprocessing import PowerTransformer\n",
    "scaler5 = PowerTransformer(method='yeo-johnson')\n",
    "X5 = scaler5.fit_transform(X)\n",
    "x_train, x_test, y_train, y_test = train_test_split(X5, y, test_size=0.25, random_state=42)"
   ]
  },
  {
   "cell_type": "code",
   "execution_count": 36,
   "metadata": {},
   "outputs": [
    {
     "name": "stdout",
     "output_type": "stream",
     "text": [
      "Decision Tree\n",
      "Accuracy: 0.6868932038834952\n",
      "Precision: 0.6949035812672176\n",
      "Recall: 0.686861810755616\n",
      "F1 Score: 0.6908592947620678\n",
      "False Positive Rate: 0.31307420494699645\n",
      "False Negative Rate: 0.31313818924438397\n"
     ]
    }
   ],
   "source": [
    "from sklearn.tree import DecisionTreeClassifier \n",
    "from sklearn import metrics\n",
    "clf = DecisionTreeClassifier()\n",
    "clf = clf.fit(x_train,y_train)\n",
    "y_pred = clf.predict(x_test)\n",
    "print(\"Decision Tree\")\n",
    "print(\"Accuracy:\",metrics.accuracy_score(y_test, y_pred))\n",
    "print(\"Precision:\",metrics.precision_score(y_test, y_pred))\n",
    "print(\"Recall:\",metrics.recall_score(y_test, y_pred))\n",
    "print(\"F1 Score:\",metrics.f1_score(y_test, y_pred))\n",
    "\n",
    "from sklearn.metrics import recall_score\n",
    "tpr = recall_score(y_test, y_pred) \n",
    "tnr = recall_score(y_test, y_pred, pos_label = 0) \n",
    "fpr = 1 - tnr\n",
    "fnr = 1 - tpr\n",
    "print(\"False Positive Rate:\",fpr)\n",
    "print(\"False Negative Rate:\",fnr)"
   ]
  },
  {
   "cell_type": "code",
   "execution_count": 37,
   "metadata": {},
   "outputs": [
    {
     "name": "stdout",
     "output_type": "stream",
     "text": [
      "GNB\n",
      "Accuracy: 0.6019417475728155\n",
      "Precision: 0.6091094493541809\n",
      "Recall: 0.6099387338325392\n",
      "F1 Score: 0.6095238095238096\n",
      "False Positive Rate: 0.40636042402826855\n",
      "False Negative Rate: 0.39006126616746084\n"
     ]
    }
   ],
   "source": [
    "from sklearn.naive_bayes import GaussianNB\n",
    "gnb = GaussianNB(priors=None , var_smoothing = 0.50)\n",
    "gnb.fit(x_train, y_train)\n",
    "y_pred = gnb.predict(x_test)\n",
    "print(\"GNB\")\n",
    "from sklearn import metrics\n",
    "print(\"Accuracy:\",metrics.accuracy_score(y_test, y_pred))\n",
    "print(\"Precision:\",metrics.precision_score(y_test, y_pred))\n",
    "print(\"Recall:\",metrics.recall_score(y_test, y_pred))\n",
    "print(\"F1 Score:\",metrics.f1_score(y_test, y_pred))\n",
    "\n",
    "from sklearn.metrics import recall_score\n",
    "tpr = recall_score(y_test, y_pred) \n",
    "tnr = recall_score(y_test, y_pred, pos_label = 0) \n",
    "fpr = 1 - tnr\n",
    "fnr = 1 - tpr\n",
    "print(\"False Positive Rate:\",fpr)\n",
    "print(\"False Negative Rate:\",fnr)"
   ]
  },
  {
   "cell_type": "code",
   "execution_count": 38,
   "metadata": {},
   "outputs": [
    {
     "name": "stdout",
     "output_type": "stream",
     "text": [
      "KNN\n",
      "Accuracy: 0.6803051317614425\n",
      "Precision: 0.6729917773561037\n",
      "Recall: 0.7243022464261403\n",
      "F1 Score: 0.6977049180327869\n",
      "False Positive Rate: 0.3653710247349823\n",
      "False Negative Rate: 0.2756977535738597\n"
     ]
    }
   ],
   "source": [
    "from sklearn.neighbors import KNeighborsClassifier\n",
    "knn = KNeighborsClassifier(n_neighbors=15)\n",
    "knn.fit(x_train, y_train)\n",
    "y_pred = knn.predict(x_test)\n",
    "print(\"KNN\")\n",
    "\n",
    "from sklearn import metrics\n",
    "print(\"Accuracy:\",metrics.accuracy_score(y_test, y_pred))\n",
    "print(\"Precision:\",metrics.precision_score(y_test, y_pred))\n",
    "print(\"Recall:\",metrics.recall_score(y_test, y_pred))\n",
    "print(\"F1 Score:\",metrics.f1_score(y_test, y_pred))\n",
    "\n",
    "from sklearn.metrics import recall_score\n",
    "tpr = recall_score(y_test, y_pred) \n",
    "tnr = recall_score(y_test, y_pred, pos_label = 0) \n",
    "fpr = 1 - tnr\n",
    "fnr = 1 - tpr\n",
    "print(\"False Positive Rate:\",fpr)\n",
    "print(\"False Negative Rate:\",fnr)"
   ]
  },
  {
   "cell_type": "code",
   "execution_count": 39,
   "metadata": {},
   "outputs": [
    {
     "name": "stdout",
     "output_type": "stream",
     "text": [
      "RandomForest\n",
      "Accuracy: 0.7604022191400832\n",
      "Precision: 0.7462025316455696\n",
      "Recall: 0.8025867937372362\n",
      "F1 Score: 0.7733683174811413\n",
      "False Positive Rate: 0.28339222614840986\n",
      "False Negative Rate: 0.19741320626276382\n"
     ]
    }
   ],
   "source": [
    "from sklearn.ensemble import RandomForestClassifier\n",
    "\n",
    "clf=RandomForestClassifier(n_estimators=50)\n",
    "clf.fit(x_train,y_train)\n",
    "y_pred=clf.predict(x_test)\n",
    "print(\"RandomForest\")\n",
    "from sklearn import metrics\n",
    "print(\"Accuracy:\",metrics.accuracy_score(y_test, y_pred))\n",
    "print(\"Precision:\",metrics.precision_score(y_test, y_pred))\n",
    "print(\"Recall:\",metrics.recall_score(y_test, y_pred))\n",
    "print(\"F1 Score:\",metrics.f1_score(y_test, y_pred))\n",
    "\n",
    "from sklearn.metrics import recall_score\n",
    "tpr = recall_score(y_test, y_pred) \n",
    "tnr = recall_score(y_test, y_pred, pos_label = 0) \n",
    "fpr = 1 - tnr\n",
    "fnr = 1 - tpr\n",
    "print(\"False Positive Rate:\",fpr)\n",
    "print(\"False Negative Rate:\",fnr)"
   ]
  },
  {
   "cell_type": "code",
   "execution_count": 40,
   "metadata": {},
   "outputs": [],
   "source": [
    "df.drop(['VideoID', 'user-definedlabeln'], axis=1, inplace=True)"
   ]
  },
  {
   "cell_type": "code",
   "execution_count": 41,
   "metadata": {},
   "outputs": [
    {
     "data": {
      "text/plain": [
       "Index(['Attention', 'Mediation', 'Raw', 'Delta', 'Theta', 'Alpha1', 'Alpha2',\n",
       "       'Beta1', 'Beta2', 'Gamma1', 'Gamma2'],\n",
       "      dtype='object')"
      ]
     },
     "execution_count": 41,
     "metadata": {},
     "output_type": "execute_result"
    }
   ],
   "source": [
    "df.columns"
   ]
  },
  {
   "cell_type": "code",
   "execution_count": 42,
   "metadata": {},
   "outputs": [
    {
     "data": {
      "text/html": [
       "<div>\n",
       "<style scoped>\n",
       "    .dataframe tbody tr th:only-of-type {\n",
       "        vertical-align: middle;\n",
       "    }\n",
       "\n",
       "    .dataframe tbody tr th {\n",
       "        vertical-align: top;\n",
       "    }\n",
       "\n",
       "    .dataframe thead th {\n",
       "        text-align: right;\n",
       "    }\n",
       "</style>\n",
       "<table border=\"1\" class=\"dataframe\">\n",
       "  <thead>\n",
       "    <tr style=\"text-align: right;\">\n",
       "      <th></th>\n",
       "      <th>Attention</th>\n",
       "      <th>Mediation</th>\n",
       "      <th>Raw</th>\n",
       "      <th>Delta</th>\n",
       "      <th>Theta</th>\n",
       "      <th>Alpha1</th>\n",
       "      <th>Alpha2</th>\n",
       "      <th>Beta1</th>\n",
       "      <th>Beta2</th>\n",
       "      <th>Gamma1</th>\n",
       "      <th>Gamma2</th>\n",
       "    </tr>\n",
       "  </thead>\n",
       "  <tbody>\n",
       "    <tr>\n",
       "      <th>count</th>\n",
       "      <td>11536.000000</td>\n",
       "      <td>11536.000000</td>\n",
       "      <td>11536.000000</td>\n",
       "      <td>1.153600e+04</td>\n",
       "      <td>1.153600e+04</td>\n",
       "      <td>1.153600e+04</td>\n",
       "      <td>1.153600e+04</td>\n",
       "      <td>11536.000000</td>\n",
       "      <td>1.153600e+04</td>\n",
       "      <td>11536.000000</td>\n",
       "      <td>11536.000000</td>\n",
       "    </tr>\n",
       "    <tr>\n",
       "      <th>mean</th>\n",
       "      <td>45.880028</td>\n",
       "      <td>52.397451</td>\n",
       "      <td>34.339806</td>\n",
       "      <td>5.900149e+05</td>\n",
       "      <td>1.588479e+05</td>\n",
       "      <td>3.857353e+04</td>\n",
       "      <td>2.816351e+04</td>\n",
       "      <td>20256.508148</td>\n",
       "      <td>2.462005e+04</td>\n",
       "      <td>16925.292042</td>\n",
       "      <td>8214.482490</td>\n",
       "    </tr>\n",
       "    <tr>\n",
       "      <th>std</th>\n",
       "      <td>19.641741</td>\n",
       "      <td>17.226824</td>\n",
       "      <td>131.652667</td>\n",
       "      <td>6.365997e+05</td>\n",
       "      <td>2.365106e+05</td>\n",
       "      <td>6.860648e+04</td>\n",
       "      <td>4.838641e+04</td>\n",
       "      <td>29163.164448</td>\n",
       "      <td>3.711200e+04</td>\n",
       "      <td>25797.069942</td>\n",
       "      <td>11541.638785</td>\n",
       "    </tr>\n",
       "    <tr>\n",
       "      <th>min</th>\n",
       "      <td>0.000000</td>\n",
       "      <td>0.000000</td>\n",
       "      <td>-2048.000000</td>\n",
       "      <td>4.480000e+02</td>\n",
       "      <td>1.700000e+01</td>\n",
       "      <td>2.000000e+00</td>\n",
       "      <td>2.000000e+00</td>\n",
       "      <td>3.000000</td>\n",
       "      <td>2.000000e+00</td>\n",
       "      <td>1.000000</td>\n",
       "      <td>2.000000</td>\n",
       "    </tr>\n",
       "    <tr>\n",
       "      <th>25%</th>\n",
       "      <td>34.000000</td>\n",
       "      <td>43.000000</td>\n",
       "      <td>-10.000000</td>\n",
       "      <td>9.010200e+04</td>\n",
       "      <td>2.408875e+04</td>\n",
       "      <td>6.628750e+03</td>\n",
       "      <td>6.465750e+03</td>\n",
       "      <td>5678.000000</td>\n",
       "      <td>6.952000e+03</td>\n",
       "      <td>3758.000000</td>\n",
       "      <td>1959.750000</td>\n",
       "    </tr>\n",
       "    <tr>\n",
       "      <th>50%</th>\n",
       "      <td>47.000000</td>\n",
       "      <td>53.000000</td>\n",
       "      <td>34.000000</td>\n",
       "      <td>3.684790e+05</td>\n",
       "      <td>7.338950e+04</td>\n",
       "      <td>1.645600e+04</td>\n",
       "      <td>1.386600e+04</td>\n",
       "      <td>11598.000000</td>\n",
       "      <td>1.417650e+04</td>\n",
       "      <td>8590.000000</td>\n",
       "      <td>4470.000000</td>\n",
       "    </tr>\n",
       "    <tr>\n",
       "      <th>75%</th>\n",
       "      <td>60.000000</td>\n",
       "      <td>64.000000</td>\n",
       "      <td>80.000000</td>\n",
       "      <td>8.913540e+05</td>\n",
       "      <td>1.905018e+05</td>\n",
       "      <td>4.117225e+04</td>\n",
       "      <td>3.042725e+04</td>\n",
       "      <td>24025.750000</td>\n",
       "      <td>2.923800e+04</td>\n",
       "      <td>19290.000000</td>\n",
       "      <td>9829.500000</td>\n",
       "    </tr>\n",
       "    <tr>\n",
       "      <th>max</th>\n",
       "      <td>100.000000</td>\n",
       "      <td>100.000000</td>\n",
       "      <td>1440.000000</td>\n",
       "      <td>3.964663e+06</td>\n",
       "      <td>2.567643e+06</td>\n",
       "      <td>1.369955e+06</td>\n",
       "      <td>1.016913e+06</td>\n",
       "      <td>840994.000000</td>\n",
       "      <td>1.083461e+06</td>\n",
       "      <td>658008.000000</td>\n",
       "      <td>283517.000000</td>\n",
       "    </tr>\n",
       "  </tbody>\n",
       "</table>\n",
       "</div>"
      ],
      "text/plain": [
       "          Attention     Mediation           Raw         Delta         Theta  \\\n",
       "count  11536.000000  11536.000000  11536.000000  1.153600e+04  1.153600e+04   \n",
       "mean      45.880028     52.397451     34.339806  5.900149e+05  1.588479e+05   \n",
       "std       19.641741     17.226824    131.652667  6.365997e+05  2.365106e+05   \n",
       "min        0.000000      0.000000  -2048.000000  4.480000e+02  1.700000e+01   \n",
       "25%       34.000000     43.000000    -10.000000  9.010200e+04  2.408875e+04   \n",
       "50%       47.000000     53.000000     34.000000  3.684790e+05  7.338950e+04   \n",
       "75%       60.000000     64.000000     80.000000  8.913540e+05  1.905018e+05   \n",
       "max      100.000000    100.000000   1440.000000  3.964663e+06  2.567643e+06   \n",
       "\n",
       "             Alpha1        Alpha2          Beta1         Beta2         Gamma1  \\\n",
       "count  1.153600e+04  1.153600e+04   11536.000000  1.153600e+04   11536.000000   \n",
       "mean   3.857353e+04  2.816351e+04   20256.508148  2.462005e+04   16925.292042   \n",
       "std    6.860648e+04  4.838641e+04   29163.164448  3.711200e+04   25797.069942   \n",
       "min    2.000000e+00  2.000000e+00       3.000000  2.000000e+00       1.000000   \n",
       "25%    6.628750e+03  6.465750e+03    5678.000000  6.952000e+03    3758.000000   \n",
       "50%    1.645600e+04  1.386600e+04   11598.000000  1.417650e+04    8590.000000   \n",
       "75%    4.117225e+04  3.042725e+04   24025.750000  2.923800e+04   19290.000000   \n",
       "max    1.369955e+06  1.016913e+06  840994.000000  1.083461e+06  658008.000000   \n",
       "\n",
       "              Gamma2  \n",
       "count   11536.000000  \n",
       "mean     8214.482490  \n",
       "std     11541.638785  \n",
       "min         2.000000  \n",
       "25%      1959.750000  \n",
       "50%      4470.000000  \n",
       "75%      9829.500000  \n",
       "max    283517.000000  "
      ]
     },
     "execution_count": 42,
     "metadata": {},
     "output_type": "execute_result"
    }
   ],
   "source": [
    "df.describe()"
   ]
  },
  {
   "cell_type": "code",
   "execution_count": 43,
   "metadata": {},
   "outputs": [],
   "source": [
    "from sklearn_pandas import DataFrameMapper\n",
    "\n",
    "mapper = DataFrameMapper([(df.columns, PowerTransformer())])\n",
    "scaled_features = mapper.fit_transform(df.copy(), 4)\n",
    "scaled_features_df = pd.DataFrame(scaled_features, index=df.index, columns=df.columns)"
   ]
  },
  {
   "cell_type": "code",
   "execution_count": 44,
   "metadata": {},
   "outputs": [
    {
     "data": {
      "text/html": [
       "<div>\n",
       "<style scoped>\n",
       "    .dataframe tbody tr th:only-of-type {\n",
       "        vertical-align: middle;\n",
       "    }\n",
       "\n",
       "    .dataframe tbody tr th {\n",
       "        vertical-align: top;\n",
       "    }\n",
       "\n",
       "    .dataframe thead th {\n",
       "        text-align: right;\n",
       "    }\n",
       "</style>\n",
       "<table border=\"1\" class=\"dataframe\">\n",
       "  <thead>\n",
       "    <tr style=\"text-align: right;\">\n",
       "      <th></th>\n",
       "      <th>Attention</th>\n",
       "      <th>Mediation</th>\n",
       "      <th>Raw</th>\n",
       "      <th>Delta</th>\n",
       "      <th>Theta</th>\n",
       "      <th>Alpha1</th>\n",
       "      <th>Alpha2</th>\n",
       "      <th>Beta1</th>\n",
       "      <th>Beta2</th>\n",
       "      <th>Gamma1</th>\n",
       "      <th>Gamma2</th>\n",
       "    </tr>\n",
       "  </thead>\n",
       "  <tbody>\n",
       "    <tr>\n",
       "      <th>count</th>\n",
       "      <td>1.153600e+04</td>\n",
       "      <td>1.153600e+04</td>\n",
       "      <td>1.153600e+04</td>\n",
       "      <td>1.153600e+04</td>\n",
       "      <td>1.153600e+04</td>\n",
       "      <td>1.153600e+04</td>\n",
       "      <td>1.153600e+04</td>\n",
       "      <td>1.153600e+04</td>\n",
       "      <td>1.153600e+04</td>\n",
       "      <td>1.153600e+04</td>\n",
       "      <td>1.153600e+04</td>\n",
       "    </tr>\n",
       "    <tr>\n",
       "      <th>mean</th>\n",
       "      <td>3.762979e-17</td>\n",
       "      <td>2.898745e-17</td>\n",
       "      <td>-1.487002e-16</td>\n",
       "      <td>1.237799e-15</td>\n",
       "      <td>-1.067877e-16</td>\n",
       "      <td>-1.382745e-15</td>\n",
       "      <td>-6.796074e-16</td>\n",
       "      <td>-2.292999e-16</td>\n",
       "      <td>2.115352e-16</td>\n",
       "      <td>-2.567487e-16</td>\n",
       "      <td>1.678673e-16</td>\n",
       "    </tr>\n",
       "    <tr>\n",
       "      <th>std</th>\n",
       "      <td>1.000043e+00</td>\n",
       "      <td>1.000043e+00</td>\n",
       "      <td>1.000043e+00</td>\n",
       "      <td>1.000043e+00</td>\n",
       "      <td>1.000043e+00</td>\n",
       "      <td>1.000043e+00</td>\n",
       "      <td>1.000043e+00</td>\n",
       "      <td>1.000043e+00</td>\n",
       "      <td>1.000043e+00</td>\n",
       "      <td>1.000043e+00</td>\n",
       "      <td>1.000043e+00</td>\n",
       "    </tr>\n",
       "    <tr>\n",
       "      <th>min</th>\n",
       "      <td>-2.477877e+00</td>\n",
       "      <td>-2.674350e+00</td>\n",
       "      <td>-1.347181e+01</td>\n",
       "      <td>-2.097834e+00</td>\n",
       "      <td>-4.976113e+00</td>\n",
       "      <td>-5.826670e+00</td>\n",
       "      <td>-7.267628e+00</td>\n",
       "      <td>-6.630325e+00</td>\n",
       "      <td>-7.707574e+00</td>\n",
       "      <td>-6.343238e+00</td>\n",
       "      <td>-4.905864e+00</td>\n",
       "    </tr>\n",
       "    <tr>\n",
       "      <th>25%</th>\n",
       "      <td>-5.858827e-01</td>\n",
       "      <td>-5.855817e-01</td>\n",
       "      <td>-3.799671e-01</td>\n",
       "      <td>-7.230260e-01</td>\n",
       "      <td>-7.608685e-01</td>\n",
       "      <td>-6.925906e-01</td>\n",
       "      <td>-6.708024e-01</td>\n",
       "      <td>-6.813742e-01</td>\n",
       "      <td>-6.935767e-01</td>\n",
       "      <td>-6.976009e-01</td>\n",
       "      <td>-6.917530e-01</td>\n",
       "    </tr>\n",
       "    <tr>\n",
       "      <th>50%</th>\n",
       "      <td>7.586291e-02</td>\n",
       "      <td>-9.436762e-05</td>\n",
       "      <td>-4.212999e-02</td>\n",
       "      <td>9.084845e-02</td>\n",
       "      <td>2.436897e-02</td>\n",
       "      <td>-1.885729e-02</td>\n",
       "      <td>-1.546403e-02</td>\n",
       "      <td>-1.714219e-02</td>\n",
       "      <td>-1.247776e-02</td>\n",
       "      <td>-1.071044e-02</td>\n",
       "      <td>-1.113068e-02</td>\n",
       "    </tr>\n",
       "    <tr>\n",
       "      <th>75%</th>\n",
       "      <td>7.228952e-01</td>\n",
       "      <td>6.688158e-01</td>\n",
       "      <td>3.288921e-01</td>\n",
       "      <td>7.765107e-01</td>\n",
       "      <td>7.292363e-01</td>\n",
       "      <td>6.763264e-01</td>\n",
       "      <td>6.596010e-01</td>\n",
       "      <td>6.761714e-01</td>\n",
       "      <td>6.859686e-01</td>\n",
       "      <td>6.755395e-01</td>\n",
       "      <td>6.758626e-01</td>\n",
       "    </tr>\n",
       "    <tr>\n",
       "      <th>max</th>\n",
       "      <td>2.651521e+00</td>\n",
       "      <td>3.002341e+00</td>\n",
       "      <td>1.187797e+01</td>\n",
       "      <td>2.361486e+00</td>\n",
       "      <td>2.814991e+00</td>\n",
       "      <td>3.484405e+00</td>\n",
       "      <td>3.673392e+00</td>\n",
       "      <td>4.305362e+00</td>\n",
       "      <td>4.271470e+00</td>\n",
       "      <td>3.839354e+00</td>\n",
       "      <td>4.055517e+00</td>\n",
       "    </tr>\n",
       "  </tbody>\n",
       "</table>\n",
       "</div>"
      ],
      "text/plain": [
       "          Attention     Mediation           Raw         Delta         Theta  \\\n",
       "count  1.153600e+04  1.153600e+04  1.153600e+04  1.153600e+04  1.153600e+04   \n",
       "mean   3.762979e-17  2.898745e-17 -1.487002e-16  1.237799e-15 -1.067877e-16   \n",
       "std    1.000043e+00  1.000043e+00  1.000043e+00  1.000043e+00  1.000043e+00   \n",
       "min   -2.477877e+00 -2.674350e+00 -1.347181e+01 -2.097834e+00 -4.976113e+00   \n",
       "25%   -5.858827e-01 -5.855817e-01 -3.799671e-01 -7.230260e-01 -7.608685e-01   \n",
       "50%    7.586291e-02 -9.436762e-05 -4.212999e-02  9.084845e-02  2.436897e-02   \n",
       "75%    7.228952e-01  6.688158e-01  3.288921e-01  7.765107e-01  7.292363e-01   \n",
       "max    2.651521e+00  3.002341e+00  1.187797e+01  2.361486e+00  2.814991e+00   \n",
       "\n",
       "             Alpha1        Alpha2         Beta1         Beta2        Gamma1  \\\n",
       "count  1.153600e+04  1.153600e+04  1.153600e+04  1.153600e+04  1.153600e+04   \n",
       "mean  -1.382745e-15 -6.796074e-16 -2.292999e-16  2.115352e-16 -2.567487e-16   \n",
       "std    1.000043e+00  1.000043e+00  1.000043e+00  1.000043e+00  1.000043e+00   \n",
       "min   -5.826670e+00 -7.267628e+00 -6.630325e+00 -7.707574e+00 -6.343238e+00   \n",
       "25%   -6.925906e-01 -6.708024e-01 -6.813742e-01 -6.935767e-01 -6.976009e-01   \n",
       "50%   -1.885729e-02 -1.546403e-02 -1.714219e-02 -1.247776e-02 -1.071044e-02   \n",
       "75%    6.763264e-01  6.596010e-01  6.761714e-01  6.859686e-01  6.755395e-01   \n",
       "max    3.484405e+00  3.673392e+00  4.305362e+00  4.271470e+00  3.839354e+00   \n",
       "\n",
       "             Gamma2  \n",
       "count  1.153600e+04  \n",
       "mean   1.678673e-16  \n",
       "std    1.000043e+00  \n",
       "min   -4.905864e+00  \n",
       "25%   -6.917530e-01  \n",
       "50%   -1.113068e-02  \n",
       "75%    6.758626e-01  \n",
       "max    4.055517e+00  "
      ]
     },
     "execution_count": 44,
     "metadata": {},
     "output_type": "execute_result"
    }
   ],
   "source": [
    "scaled_features_df.describe()"
   ]
  },
  {
   "cell_type": "code",
   "execution_count": 45,
   "metadata": {},
   "outputs": [
    {
     "data": {
      "text/plain": [
       "<matplotlib.axes._subplots.AxesSubplot at 0x1ab6a298fd0>"
      ]
     },
     "execution_count": 45,
     "metadata": {},
     "output_type": "execute_result"
    },
    {
     "data": {
      "image/png": "[encoded data removed]",
      "text/plain": [
       "<Figure size 432x288 with 1 Axes>"
      ]
     },
     "metadata": {
      "needs_background": "light"
     },
     "output_type": "display_data"
    }
   ],
   "source": [
    "import seaborn as sns\n",
    "sns.boxenplot(data=df)"
   ]
  },
  {
   "cell_type": "code",
   "execution_count": 57,
   "metadata": {},
   "outputs": [
    {
     "data": {
      "text/plain": [
       "<matplotlib.axes._subplots.AxesSubplot at 0x1ab6b2a6430>"
      ]
     },
     "execution_count": 57,
     "metadata": {},
     "output_type": "execute_result"
    },
    {
     "data": {
      "image/png": "[encoded data removed]",
      "text/plain": [
       "<Figure size 648x360 with 2 Axes>"
      ]
     },
     "metadata": {
      "needs_background": "light"
     },
     "output_type": "display_data"
    }
   ],
   "source": [
    "import matplotlib.pyplot as plt\n",
    "plt.figure(figsize = (9, 5))\n",
    "\n",
    "plt.subplot(211)\n",
    "sns.boxplot(df['Alpha1'])\n",
    "\n",
    "plt.subplot(212)\n",
    "sns.boxplot(scaled_features_df['Alpha1'])"
   ]
  },
  {
   "cell_type": "code",
   "execution_count": 65,
   "metadata": {},
   "outputs": [
    {
     "data": {
      "text/plain": [
       "<matplotlib.axes._subplots.AxesSubplot at 0x1ab6b0c3d60>"
      ]
     },
     "execution_count": 65,
     "metadata": {},
     "output_type": "execute_result"
    },
    {
     "data": {
      "image/png": "[encoded data removed]",
      "text/plain": [
       "<Figure size 648x360 with 2 Axes>"
      ]
     },
     "metadata": {
      "needs_background": "light"
     },
     "output_type": "display_data"
    }
   ],
   "source": [
    "plt.figure(figsize = (9, 5))\n",
    "\n",
    "plt.subplot(211)\n",
    "sns.boxplot(df['Raw'])\n",
    "\n",
    "plt.subplot(212)\n",
    "sns.boxplot(scaled_features_df['Raw'])"
   ]
  },
  {
   "cell_type": "code",
   "execution_count": 59,
   "metadata": {},
   "outputs": [
    {
     "data": {
      "text/plain": [
       "<matplotlib.axes._subplots.AxesSubplot at 0x1ab6c39e3d0>"
      ]
     },
     "execution_count": 59,
     "metadata": {},
     "output_type": "execute_result"
    },
    {
     "data": {
      "image/png": "[encoded data removed]",
      "text/plain": [
       "<Figure size 648x360 with 2 Axes>"
      ]
     },
     "metadata": {
      "needs_background": "light"
     },
     "output_type": "display_data"
    }
   ],
   "source": [
    "plt.figure(figsize = (9, 5))\n",
    "\n",
    "plt.subplot(211)\n",
    "sns.boxplot(df['Beta1'])\n",
    "\n",
    "plt.subplot(212)\n",
    "sns.boxplot(scaled_features_df['Beta1'])"
   ]
  },
  {
   "cell_type": "code",
   "execution_count": 60,
   "metadata": {},
   "outputs": [
    {
     "data": {
      "text/plain": [
       "<matplotlib.axes._subplots.AxesSubplot at 0x1ab6c472190>"
      ]
     },
     "execution_count": 60,
     "metadata": {},
     "output_type": "execute_result"
    },
    {
     "data": {
      "image/png": "[encoded data removed]",
      "text/plain": [
       "<Figure size 648x360 with 2 Axes>"
      ]
     },
     "metadata": {
      "needs_background": "light"
     },
     "output_type": "display_data"
    }
   ],
   "source": [
    "plt.figure(figsize = (9, 5))\n",
    "\n",
    "plt.subplot(211)\n",
    "sns.boxplot(df['Beta2'])\n",
    "\n",
    "plt.subplot(212)\n",
    "sns.boxplot(scaled_features_df['Beta2'])"
   ]
  },
  {
   "cell_type": "code",
   "execution_count": 62,
   "metadata": {},
   "outputs": [
    {
     "data": {
      "text/plain": [
       "<matplotlib.axes._subplots.AxesSubplot at 0x1ab6c52c760>"
      ]
     },
     "execution_count": 62,
     "metadata": {},
     "output_type": "execute_result"
    },
    {
     "data": {
      "image/png": "[encoded data removed]",
      "text/plain": [
       "<Figure size 648x360 with 2 Axes>"
      ]
     },
     "metadata": {
      "needs_background": "light"
     },
     "output_type": "display_data"
    }
   ],
   "source": [
    "plt.figure(figsize = (9, 5))\n",
    "\n",
    "plt.subplot(211)\n",
    "sns.boxplot(df['Gamma1'])\n",
    "\n",
    "plt.subplot(212)\n",
    "sns.boxplot(scaled_features_df['Gamma1'])"
   ]
  },
  {
   "cell_type": "code",
   "execution_count": 63,
   "metadata": {},
   "outputs": [
    {
     "data": {
      "text/plain": [
       "<matplotlib.axes._subplots.AxesSubplot at 0x1ab6c51dee0>"
      ]
     },
     "execution_count": 63,
     "metadata": {},
     "output_type": "execute_result"
    },
    {
     "data": {
      "image/png": "[encoded data removed]",
      "text/plain": [
       "<Figure size 648x360 with 2 Axes>"
      ]
     },
     "metadata": {
      "needs_background": "light"
     },
     "output_type": "display_data"
    }
   ],
   "source": [
    "plt.figure(figsize = (9, 5))\n",
    "\n",
    "plt.subplot(211)\n",
    "sns.boxplot(df['Gamma2'])\n",
    "\n",
    "plt.subplot(212)\n",
    "sns.boxplot(scaled_features_df['Gamma2'])"
   ]
  },
  {
   "cell_type": "code",
   "execution_count": 64,
   "metadata": {},
   "outputs": [
    {
     "data": {
      "text/plain": [
       "Index(['Attention', 'Mediation', 'Raw', 'Delta', 'Theta', 'Alpha1', 'Alpha2',\n",
       "       'Beta1', 'Beta2', 'Gamma1', 'Gamma2'],\n",
       "      dtype='object')"
      ]
     },
     "execution_count": 64,
     "metadata": {},
     "output_type": "execute_result"
    }
   ],
   "source": [
    "df.columns"
   ]
  }
 ],
 "metadata": {
  "kernelspec": {
   "display_name": "Python 3",
   "language": "python",
   "name": "python3"
  },
  "language_info": {
   "codemirror_mode": {
    "name": "ipython",
    "version": 3
   },
   "file_extension": ".py",
   "mimetype": "text/x-python",
   "name": "python",
   "nbconvert_exporter": "python",
   "pygments_lexer": "ipython3",
   "version": "3.8.8"
  }
 },
 "nbformat": 4,
 "nbformat_minor": 4
}
